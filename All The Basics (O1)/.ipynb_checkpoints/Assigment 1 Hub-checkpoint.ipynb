{
 "cells": [
  {
   "cell_type": "markdown",
   "metadata": {},
   "source": [
    "# Assigment 1\n",
    "In this assigment you will learn the basics of python and get familiar with how to code yourself.\n",
    "\n",
    "\n",
    "## Goals 🏆\n",
    "* How to print to the screen\n",
    "* Understand the difference between the four elementary datatypes - int, float, str and boolean.\n",
    "* Perform simple calculations using addition, subtraction, multiplication, division and modulo.\n",
    "* Learn about liberies and how to use them.\n",
    "* Use mathematical notation.\n",
    "* Create a simple function that does some calculation.\n",
    "\n",
    "---\n",
    "# Assignments\n",
    "\n",
    "Assignment | Module\n",
    "--- | --- \n",
    "[Introduction to Print](Print.ipynb) | Jupyter notebooks\n",
    "[Introduction to Datatypes](Datatypes.ipynb) | Jupyter notebooks\n",
    "[Introduction to Operations and Liberies](Operations.ipynb) | Jupyter notebooks\n",
    "[Introduction to Scientific Notation](ScientificNotations.ipynb) | Jupyter notebooks\n",
    "[Introduction to Functions](Functions.ipynb) | Jupyter notebooks"
   ]
  },
  {
   "cell_type": "code",
   "execution_count": null,
   "metadata": {},
   "outputs": [],
   "source": []
  }
 ],
 "metadata": {
  "kernelspec": {
   "display_name": "Quanted",
   "language": "python",
   "name": "quanted"
  },
  "language_info": {
   "codemirror_mode": {
    "name": "ipython",
    "version": 3
   },
   "file_extension": ".py",
   "mimetype": "text/x-python",
   "name": "python",
   "nbconvert_exporter": "python",
   "pygments_lexer": "ipython3",
   "version": "3.6.11"
  },
  "widgets": {
   "application/vnd.jupyter.widget-state+json": {
    "state": {},
    "version_major": 2,
    "version_minor": 0
   }
  }
 },
 "nbformat": 4,
 "nbformat_minor": 4
}
