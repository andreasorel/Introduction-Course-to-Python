{
 "cells": [
  {
   "cell_type": "markdown",
   "metadata": {},
   "source": [
    "## Datatypes\n",
    "Here we will introduce you to the four elementary datatypes in Python - int, float, str and boolean! The first two is related to numbers, the third is related to text and last is related to logic.\n",
    "\n",
    "We have left some simple tasks for you in the code, and encourage you to do them and make changes! Try to make the code crash!"
   ]
  },
  {
   "cell_type": "markdown",
   "metadata": {},
   "source": [
    "### Integer\n",
    "The first and most basic datatype is the integer, or int. The int is simply just a whole number, without decimal.\n",
    "\n",
    "An example of integer can be age."
   ]
  },
  {
   "cell_type": "code",
   "execution_count": 14,
   "metadata": {},
   "outputs": [
    {
     "name": "stdout",
     "output_type": "stream",
     "text": [
      "123\n"
     ]
    }
   ],
   "source": [
    "age = 123 # Change it to your age!\n",
    "print(age)"
   ]
  },
  {
   "cell_type": "markdown",
   "metadata": {},
   "source": [
    "### Float\n",
    "Float are, unlike the integers, the numbers with a decimal.\n",
    "\n",
    "An example of float can be a stock price."
   ]
  },
  {
   "cell_type": "code",
   "execution_count": 15,
   "metadata": {},
   "outputs": [
    {
     "name": "stdout",
     "output_type": "stream",
     "text": [
      "456.789\n"
     ]
    }
   ],
   "source": [
    "stock_price = 456.789 # Change it to the value of pi with five decimals!\n",
    "# Notice that we use . and not ,\n",
    "print(stock_price)"
   ]
  },
  {
   "cell_type": "markdown",
   "metadata": {},
   "source": [
    "### String\n",
    "The string datatype is the datatype for text.\n",
    "\n",
    "An example of a string can be a name."
   ]
  },
  {
   "cell_type": "code",
   "execution_count": 16,
   "metadata": {},
   "outputs": [
    {
     "name": "stdout",
     "output_type": "stream",
     "text": [
      "Quanted\n"
     ]
    }
   ],
   "source": [
    "name = \"Quanted\" # Change it to your name!\n",
    "print(name)"
   ]
  },
  {
   "cell_type": "markdown",
   "metadata": {},
   "source": [
    "### Boolean\n",
    "The last of the datatypes we introduce here are the boolean. It holds a value of either true or false.\n",
    "\n",
    "An example of a boolean value can be whether or not it is raining."
   ]
  },
  {
   "cell_type": "code",
   "execution_count": 17,
   "metadata": {},
   "outputs": [
    {
     "name": "stdout",
     "output_type": "stream",
     "text": [
      "False\n"
     ]
    }
   ],
   "source": [
    "raining = False # Change to True if it is raining!\n",
    "print(raining)"
   ]
  },
  {
   "cell_type": "markdown",
   "metadata": {},
   "source": [
    "## Using the datatypes\n",
    "All the datatypes can be converted to the other ones using Python's built in functions. These functions can't always convert a value for you, they have to be changeable. If you try to change something you can't, you will get an error.\n",
    "\n",
    "* int(n) - convert some value n into an integer.\n",
    "\n",
    "* float(n) - convert some value n into a float.\n",
    "\n",
    "* str(n) - convert some value n into a string.\n",
    "\n",
    "* bool(n) - returns if the value n is true or not.\n",
    "\n",
    "A function provided by Python you can try is **type()**! This let us see what data type the program reads, and can be useful for checks where we for example only allow integers and not floats."
   ]
  },
  {
   "cell_type": "code",
   "execution_count": 17,
   "metadata": {},
   "outputs": [
    {
     "name": "stdout",
     "output_type": "stream",
     "text": [
      "<class 'str'>\n",
      "<class 'int'>\n",
      "<class 'float'>\n"
     ]
    }
   ],
   "source": [
    "x = \"123\" # Try changig the content of the string to letters!\n",
    "\n",
    "print(type(x)) # Here will be returning a string\n",
    "x = int(x) \n",
    "print(type(x)) # Here we convert the string to an int\n",
    "x = float(x)\n",
    "print(type(x)) # Here we convert the string to a float"
   ]
  },
  {
   "cell_type": "code",
   "execution_count": 29,
   "metadata": {},
   "outputs": [
    {
     "ename": "ValueError",
     "evalue": "invalid literal for int() with base 10: '123.456'",
     "output_type": "error",
     "traceback": [
      "\u001b[0;31m---------------------------------------------------------------------------\u001b[0m",
      "\u001b[0;31mValueError\u001b[0m                                Traceback (most recent call last)",
      "\u001b[0;32m<ipython-input-29-ea5d6f88d7a7>\u001b[0m in \u001b[0;36m<module>\u001b[0;34m\u001b[0m\n\u001b[1;32m      1\u001b[0m \u001b[0mx_string\u001b[0m \u001b[0;34m=\u001b[0m \u001b[0;34m\"123.456\"\u001b[0m\u001b[0;34m\u001b[0m\u001b[0;34m\u001b[0m\u001b[0m\n\u001b[0;32m----> 2\u001b[0;31m \u001b[0mx\u001b[0m \u001b[0;34m=\u001b[0m \u001b[0mint\u001b[0m\u001b[0;34m(\u001b[0m\u001b[0mx_string\u001b[0m\u001b[0;34m)\u001b[0m\u001b[0;34m\u001b[0m\u001b[0;34m\u001b[0m\u001b[0m\n\u001b[0m\u001b[1;32m      3\u001b[0m \u001b[0mprint\u001b[0m\u001b[0;34m(\u001b[0m\u001b[0mx\u001b[0m\u001b[0;34m)\u001b[0m\u001b[0;34m\u001b[0m\u001b[0;34m\u001b[0m\u001b[0m\n",
      "\u001b[0;31mValueError\u001b[0m: invalid literal for int() with base 10: '123.456'"
     ]
    }
   ],
   "source": [
    "x_string = \"123.456\"\n",
    "x = int(x_string) # Produce an error, can't change 123.456 into a int\n",
    "print(x)"
   ]
  },
  {
   "cell_type": "markdown",
   "metadata": {},
   "source": [
    "## Boolean operators\n",
    "\n",
    "To really see how we are using the data types, we use boolean operators. With them we can compare different boolean values, and later we will se how this is helpful when writing logic for our functions.\n",
    "\n",
    "* == (is equal)\n",
    "* != (is not equal)\n",
    "* \\> , < , >= , <= (bigger, smaller, bigger or equal and smaller or equal)"
   ]
  },
  {
   "cell_type": "code",
   "execution_count": 18,
   "metadata": {},
   "outputs": [
    {
     "name": "stdout",
     "output_type": "stream",
     "text": [
      "True\n",
      "False\n",
      "False\n",
      "True\n"
     ]
    }
   ],
   "source": [
    "print(123 == 123) # prints True - make it print False!\n",
    "print(123 == 456) # prints False - make it print True!\n",
    "print(123 != 123) # prints False - make it print True!\n",
    "print(123 != 456) # prints True - make it print False!"
   ]
  },
  {
   "cell_type": "code",
   "execution_count": 8,
   "metadata": {},
   "outputs": [
    {
     "name": "stdout",
     "output_type": "stream",
     "text": [
      "123 is bigger than 456 : False\n",
      "123 is smaller than 456 : True\n",
      "123 is bigger or equal than 123 : True\n",
      "123 is smaller or equal than 122 : False\n"
     ]
    }
   ],
   "source": [
    "x = 123\n",
    "y = 456\n",
    "print(str(x), \"is bigger than\", str(y), \":\", x > y) # prints False\n",
    "print(str(x), \"is smaller than\", str(y), \":\",x < y) # prints True\n",
    "print(str(x), \"is bigger or equal than\", str(x), \":\",x >= x) # prints True\n",
    "print(str(x), \"is smaller or equal than\", str(x - 1), \":\",x <= (x - 1)) # prints False"
   ]
  }
 ],
 "metadata": {
  "kernelspec": {
   "display_name": "Python 3",
   "language": "python",
   "name": "python3"
  },
  "language_info": {
   "codemirror_mode": {
    "name": "ipython",
    "version": 3
   },
   "file_extension": ".py",
   "mimetype": "text/x-python",
   "name": "python",
   "nbconvert_exporter": "python",
   "pygments_lexer": "ipython3",
   "version": "3.7.3"
  }
 },
 "nbformat": 4,
 "nbformat_minor": 4
}
