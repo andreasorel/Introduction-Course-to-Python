{
 "cells": [
  {
   "cell_type": "markdown",
   "metadata": {},
   "source": [
    "# Basics of functions\n",
    "\n",
    "**What you will learn:**\n",
    "- Functions"
   ]
  },
  {
   "cell_type": "markdown",
   "metadata": {
    "deletable": false,
    "heading_collapsed": true,
    "run_control": {
     "frozen": true
    }
   },
   "source": [
    "## Introduction – Part 1: Basic funtions without parameters and return value"
   ]
  },
  {
   "cell_type": "markdown",
   "metadata": {
    "deletable": false,
    "hidden": true,
    "run_control": {
     "frozen": true
    }
   },
   "source": [
    "The program below is meant to print out lots of usefull data from some source (in this example we just see framgents of what is printed).\n",
    "\n",
    "Between each of these data blocks there is a line break, a horizontal line and then another line break.\n",
    "\n",
    "This gives identical code in all the places marked with the `##`, these parts are basically unnesecery to write yourself everyime and it's time consuming."
   ]
  },
  {
   "cell_type": "code",
   "execution_count": 1,
   "metadata": {
    "hidden": true
   },
   "outputs": [
    {
     "name": "stdout",
     "output_type": "stream",
     "text": [
      "Example where we SHOULD use a fucntion\n",
      "\n",
      "---------------------\n",
      "\n",
      "Data from source 1: 23.4 21.2 21.9\n",
      "Etc., ...\n",
      "\n",
      "---------------------\n",
      "\n",
      "Data from source 2: ...\n",
      "\n",
      "---------------------\n",
      "\n",
      "Data from source 3: ...\n",
      "\n",
      "---------------------\n",
      "\n"
     ]
    }
   ],
   "source": [
    "# EXAMPLE WITH NO FUNCTION\n",
    "print(\"Example where we SHOULD use a fucntion\")\n",
    "print()                                 ##\n",
    "print(\"---------------------\")          ##\n",
    "print()                                 ##\n",
    "print(\"Data from source 1:\", 23.4, 21.2, 21.9)\n",
    "print(\"Etc., ...\")\n",
    "print()                                 ##\n",
    "print(\"---------------------\")          ##\n",
    "print()                                 ##\n",
    "print(\"Data from source 2: ...\")\n",
    "print()                                 ##\n",
    "print(\"---------------------\")          ##\n",
    "print()                                 ##\n",
    "print(\"Data from source 3: ...\")\n",
    "print()                                 ##\n",
    "print(\"---------------------\")          ##\n",
    "print()                                 ##"
   ]
  },
  {
   "cell_type": "markdown",
   "metadata": {
    "deletable": false,
    "hidden": true,
    "run_control": {
     "frozen": true
    }
   },
   "source": [
    "Below the code has been solved better:\n",
    "\n",
    "- Code parts that are needed multiple times in the same program is usually defined at the top of the program as a function shown by starting with the def followed by the name of the function, in this case with the name `divider()`\n",
    "- You will then only need to write `divider()` in the places you want that piece of code to be writen instead of writing the same 3-lines of print sentances."
   ]
  },
  {
   "cell_type": "code",
   "execution_count": 2,
   "metadata": {
    "ExecuteTime": {
     "end_time": "2019-07-02T14:08:32.800529Z",
     "start_time": "2019-07-02T14:08:32.779553Z"
    },
    "hidden": true
   },
   "outputs": [
    {
     "name": "stdout",
     "output_type": "stream",
     "text": [
      "Same example WITH function\n",
      "\n",
      "---------------------\n",
      "\n",
      "Data from source 1: 23.4 21.2 21.9\n",
      "Etc., ...\n",
      "\n",
      "---------------------\n",
      "\n",
      "Data from source 2: 18.4 19.1 18.7\n",
      "\n",
      "---------------------\n",
      "\n",
      "Data from source 3: 19.9 19.1 18.2\n",
      "\n",
      "---------------------\n",
      "\n"
     ]
    }
   ],
   "source": [
    "# EXAMPLE WITH FUNCTION\n",
    "def divider():\n",
    "    print()\n",
    "    print(\"---------------------\")\n",
    "    print()\n",
    "\n",
    "\n",
    "print(\"Same example WITH function\")\n",
    "divider()\n",
    "print(\"Data from source 1:\", 23.4, 21.2, 21.9)\n",
    "print(\"Etc., ...\")\n",
    "divider()\n",
    "print(\"Data from source 2:\", 18.4, 19.1, 18.7)\n",
    "divider()\n",
    "print(\"Data from source 3:\", 19.9, 19.1, 18.2)\n",
    "divider()"
   ]
  },
  {
   "cell_type": "markdown",
   "metadata": {
    "deletable": false,
    "hidden": true,
    "run_control": {
     "frozen": true
    }
   },
   "source": [
    "The way the code works is that you first define the function that you want to use, by default it will not be run unless the function itself is \"called\".\n",
    "Then the normal code that is not part of the already defined funtion will be writen.\n",
    "Then when needed you \"call\" the function to make the code in the function appear in that place.\n",
    "\n",
    "All in all the result is the same, but the one that uses the function is shorter and more concise without the need to write the same type of code over and over."
   ]
  },
  {
   "cell_type": "markdown",
   "metadata": {
    "deletable": false,
    "editable": false,
    "run_control": {
     "frozen": true
    }
   },
   "source": [
    "## a)"
   ]
  },
  {
   "cell_type": "markdown",
   "metadata": {
    "deletable": false,
    "run_control": {
     "frozen": true
    }
   },
   "source": [
    "The code below has 4 identical framents marked with ##.\n",
    "\n",
    "***Change the code like the following:***\n",
    "\n",
    "- define a function `crisscross()` that does what the 4 itentical lines do in the example marked with `##`\n",
    "- in the script now replace the 4 lines with a \"call\" to that function `crisscross()`\n",
    "\n",
    "What ends up being printed to the screen is meant to be identical to before the script was changed. If you are still confused look at the example above again and try to make it look similar to that."
   ]
  },
  {
   "cell_type": "code",
   "execution_count": null,
   "metadata": {},
   "outputs": [],
   "source": [
    "print(\"Data from survey\")\n",
    "print()                                         ##\n",
    "print(\"**  **  **  **  **  **  **  **  **\")     ##\n",
    "print(\"  **  **  **  **  **  **  **  **\")       ##\n",
    "print()                                         ##\n",
    "print(\"Part 1: ... div. data here, not shown\")\n",
    "print()                                         ##\n",
    "print(\"**  **  **  **  **  **  **  **  **\")     ##\n",
    "print(\"  **  **  **  **  **  **  **  **\")       ##\n",
    "print()                                         ##\n",
    "print(\"Part 2: ... more data ...\")\n",
    "print()                                         ##\n",
    "print(\"**  **  **  **  **  **  **  **  **\")     ##\n",
    "print(\"  **  **  **  **  **  **  **  **\")       ##\n",
    "print()                                         ##\n",
    "print(\"Part 3: ... even more data ...\")\n",
    "print()                                         ##\n",
    "print(\"**  **  **  **  **  **  **  **  **\")     ##\n",
    "print(\"  **  **  **  **  **  **  **  **\")       ##\n",
    "print()                                         ##\n",
    "print(\"Part 4: ... even even more data ...\")"
   ]
  },
  {
   "cell_type": "markdown",
   "metadata": {
    "deletable": false,
    "heading_collapsed": true,
    "run_control": {
     "frozen": true
    }
   },
   "source": [
    "## Introduction – Part 2: Funtions with parameters, but without return value"
   ]
  },
  {
   "cell_type": "markdown",
   "metadata": {
    "deletable": false,
    "hidden": true,
    "run_control": {
     "frozen": true
    }
   },
   "source": [
    "In Part 1 we showed the main point of functions: To make lines of code that we want to run multiple times at different parts of the code can be combined into a single function and thereafter called when necesary. This makes it so that we can write less code over and over as well as making the code cleaner.\n",
    "\n",
    "Though without a parameter the function has a set usage for us. A function with no parameter will do the exact same every time you call it. Usualy we want a function to do something similar every time, but not always the exact same. Say a square root function will need to calculate a given number like 9 or 81, but if we dont declare to the function what number it will do the square root of it wount be able to calculate for us. Below we will show in a example somethign that is very similar to the example in task (a). We have a function where you can write what you want in a header box surrounded by hastags. However the code is only almost similar, since the text in the headers change from every use. If we made a function that always wrote INTRODUCTION, then it could only be used one time and would not be really useful."
   ]
  },
  {
   "cell_type": "code",
   "execution_count": null,
   "metadata": {
    "hidden": true
   },
   "outputs": [],
   "source": [
    "# EXAMPLE WITHOUT FUNCTION\n",
    "print()\n",
    "print(\"################\")\n",
    "print(\"# INTRODUCTION #\")\n",
    "print(\"################\")\n",
    "print()\n",
    "print(\"Here is some introductury infromation...\")\n",
    "print()\n",
    "print(\"##########################\")\n",
    "print(\"# DATA FROM EXPERIMENT 1 #\")\n",
    "print(\"##########################\")\n",
    "print()\n",
    "print(\"Div. data:\", 123, 345, 432, 356)\n",
    "print()\n",
    "print(\"##########################\")\n",
    "print(\"# DATA FROM EXPERIMENT 2 #\")\n",
    "print(\"##########################\")\n",
    "print()\n",
    "print(\"Etc...\") "
   ]
  },
  {
   "cell_type": "markdown",
   "metadata": {
    "deletable": false,
    "hidden": true,
    "run_control": {
     "frozen": true
    }
   },
   "source": [
    "The solution is to give the function a **parameter**, that will give the function flexibility in its uses and change its behaviour based on the **parameter** that is used to call the function."
   ]
  },
  {
   "cell_type": "code",
   "execution_count": null,
   "metadata": {
    "hidden": true
   },
   "outputs": [],
   "source": [
    "# SAME EXAMPLE WITH FUNCTION \n",
    "def box_heading(text):\n",
    "    width = len(text) + 4\n",
    "    print()\n",
    "    print(\"#\" * width )\n",
    "    print(\"# \" + text + \" #\")\n",
    "    print(\"#\" * width )\n",
    "    print()\n",
    "     \n",
    "box_heading(\"INTRODUCTION\")\n",
    "print(\"Here is some introductury infromation...\")\n",
    "box_heading(\"DATA FROM EXPERIMENT 1\")\n",
    "print(\"Div. data:\", 123, 345, 432, 356)\n",
    "box_heading(\"DATA FROM EXPERIMENT 2\")\n",
    "print(\"Etc...\")"
   ]
  },
  {
   "cell_type": "markdown",
   "metadata": {
    "deletable": false,
    "hidden": true,
    "run_control": {
     "frozen": true
    }
   },
   "source": [
    "The program starts by \"calling\" the function `box_heading(\"INTRODUCTION\")`. This will run the fucntion `box_heading`, with the argmunet (or parameter) `\"INTRODUCTION\"` changed into the variable `text`.\n",
    "\n",
    "The sentance `print(\"# \" + text + \" #\")` will then make it so that word or words are writen in the middle of the box.\n",
    "\n",
    "The function `len(text)` gives us the length of the string. this makes it able to adapt to the width of the word for every word or words that is inserted into the argument / parameter.\n",
    "\n",
    "In the next \"call\" of the function `box_heading` the argument is instead `\"DATA FROM EXPERIMENT 1\"` which changes the variable of `text`. Etc. The use of the argument / parameter makes us able to call the function `box_heading` and make different types of heading boxes based on what we write in it from call to call."
   ]
  },
  {
   "cell_type": "markdown",
   "metadata": {
    "deletable": false,
    "heading_collapsed": true,
    "run_control": {
     "frozen": true
    }
   },
   "source": [
    "## Introduction - Part 3: Funtions with parameters, AND return value:"
   ]
  },
  {
   "cell_type": "markdown",
   "metadata": {
    "deletable": false,
    "hidden": true,
    "run_control": {
     "frozen": true
    }
   },
   "source": [
    "In (a) and (b) we have seen functions without a return value. That is usually fine for functions that is meant to directly write things to the screen like the examples above.\n",
    "\n",
    "But for functions that are meant to calculate a value, we will need some way for the function to give us the result of the calculation. This is where we use a **return value**.\n",
    "\n",
    "It is not always mathematical calculations that we want a return value from. Sometimes we need something to return a word in past tense like the example below.\n",
    "\n",
    "The idea with the function **pasttense()** is that it will take a word that is not in past tense and then change it to be in past tense. Example: I sail -> I sailed.\n",
    "\n",
    "To not make the code too long we have only looked at the most basic case of past tense of easy words.\n",
    "\n",
    "To give a return value from a function we use the word **return**, seen in line 7. The value of what comes after return (in this case the variable answer which will be a string of the past tense of the word) will be returned from the function.\n",
    "\n",
    "With the parameter of \"I sail\" the return value will return with the past tense of \"I sailed\""
   ]
  },
  {
   "cell_type": "code",
   "execution_count": null,
   "metadata": {
    "ExecuteTime": {
     "end_time": "2019-07-02T14:35:04.925444Z",
     "start_time": "2019-07-02T14:34:33.712771Z"
    },
    "hidden": true
   },
   "outputs": [],
   "source": [
    "def pasttense(present):\n",
    "    # VERY SIMPLYFIED TO SHOW THE MAINPOINT \n",
    "    answer = present + \"ed\"\n",
    "    return answer\n",
    " \n",
    "#EXAMPLE OF RUN CODE THAT RETURNS A VALUE\n",
    "text = input(\"Say something you do:\")\n",
    "print(\"Today \", text, \"yesterday \" pasttense(text) + \"!\")"
   ]
  },
  {
   "cell_type": "markdown",
   "metadata": {
    "deletable": false,
    "hidden": true,
    "run_control": {
     "frozen": true
    }
   },
   "source": [
    "But what do we gain from using a return value instead of just using a print at the end of the function?\n",
    "\n",
    "**With a return value the function becomes much more general and usable for many more scenarios!.** The function with just the return value of the word in past tense makes it so we can insert that into any print we want afterwads.\n",
    "\n",
    "Say we wanted one sentance to say what it does in the example, but then also have a sentance that said something entierly different? Then if we used a print at the end of the function then it would only be able to be used for one or the other.\n",
    "By making it so that what is returned is just the \"answer\" we can insert that answer into other functions or into prints that we need it for without the need to make the same function in many different ways.\n",
    "\n",
    "To make general functions its also usually smart to not use input og print in the function - except in scenarios like this one where we want the user to decide what is sent into the function."
   ]
  },
  {
   "cell_type": "markdown",
   "metadata": {
    "deletable": false,
    "editable": false,
    "run_control": {
     "frozen": true
    }
   },
   "source": [
    "# b)"
   ]
  },
  {
   "cell_type": "markdown",
   "metadata": {
    "deletable": false,
    "run_control": {
     "frozen": true
    }
   },
   "source": [
    "Use the code below as a base like the tutorial above. Run the code and check that it works. Don't worry that it can't make the past tense of every word."
   ]
  },
  {
   "cell_type": "code",
   "execution_count": null,
   "metadata": {},
   "outputs": [],
   "source": [
    "def pasttense(present):\n",
    "    # VERY SIMPLYFIED TO SHOW THE MAINPOINT \n",
    "    answer = present + \"ed\"\n",
    "    return answer\n",
    " \n",
    "#EXAMPLE OF RUN CODE THAT RETURNS A VALUE\n",
    "text = input(\"Say something you do:\")\n",
    "print(\"Today \", text, \"yesterday \" pasttense(text) + \"!\")\n",
    "\n",
    "#YOUR CODE BELOW\n"
   ]
  },
  {
   "cell_type": "markdown",
   "metadata": {
    "deletable": false,
    "run_control": {
     "frozen": true
    }
   },
   "source": [
    "***Your task: Make a similar function for futuretense(present)*** that takes in a parameter of something in the present tense and changes it to the future tense like the example: sail -> will sail, and return the future tense.\n",
    "\n",
    "Except for the way the word changes the function should be the same like pasttense(present) is now."
   ]
  },
  {
   "cell_type": "markdown",
   "metadata": {
    "deletable": false,
    "run_control": {
     "frozen": true
    }
   },
   "source": [
    "## Introduction - Part 4: Main-function"
   ]
  },
  {
   "cell_type": "markdown",
   "metadata": {
    "deletable": false,
    "run_control": {
     "frozen": true
    }
   },
   "source": [
    "It is normal for a program to have a main-function which is called when the program starts. It is thorugh this main function the other functions of the program is usually called.\n",
    "\n",
    "A example of a program with a main function is shown below. In the example it is the squareroot function that does the calculations while the main() is used for the communication with the user.\n",
    "\n",
    "In a even larger program it would usually be another seperate function to do the communication with the user so that the main-function only calls other functions and some over all \"managment\".\n",
    "\n",
    "When code we would have outside a function is inserted into a main-function the script \"becomes\" 1 line, where we just call the main function at the end and the program works from there like shown below. Try to run it yourself and see if you understand it."
   ]
  },
  {
   "cell_type": "code",
   "execution_count": null,
   "metadata": {
    "ExecuteTime": {
     "end_time": "2019-07-03T06:12:11.307021Z",
     "start_time": "2019-07-03T06:09:51.377086Z"
    }
   },
   "outputs": [],
   "source": [
    "import math\n",
    "def squareroot(x):\n",
    "    # parameter: x, meant to be any whole number.\n",
    "    # return value: the square root of x.\n",
    "    int number = math.sqrt(x)\n",
    "    return number\n",
    "    \n",
    " \n",
    "def main():\n",
    "    tall = int(input(\"Give a positive integer above 0\"))\n",
    "    print(squareroot(tall), \"is the square root of \", tall)\n",
    " \n",
    "# SKRIPT \n",
    "main()"
   ]
  },
  {
   "cell_type": "markdown",
   "metadata": {},
   "source": [
    "## c)"
   ]
  },
  {
   "cell_type": "markdown",
   "metadata": {
    "deletable": false,
    "run_control": {
     "frozen": true
    }
   },
   "source": [
    "***Copy the code you made in task (b) and try to implement it into a main function instead. So everything is either in the functions and called by a single main() at the end.***"
   ]
  },
  {
   "cell_type": "code",
   "execution_count": null,
   "metadata": {},
   "outputs": [],
   "source": []
  },
  {
   "cell_type": "markdown",
   "metadata": {
    "deletable": false,
    "run_control": {
     "frozen": true
    }
   },
   "source": [
    "The running code should be identical to your result in task (b)"
   ]
  },
  {
   "cell_type": "markdown",
   "metadata": {
    "deletable": false,
    "heading_collapsed": true,
    "run_control": {
     "frozen": true
    }
   },
   "source": [
    "#### Hint\n"
   ]
  },
  {
   "cell_type": "markdown",
   "metadata": {
    "deletable": false,
    "hidden": true,
    "run_control": {
     "frozen": true
    }
   },
   "source": [
    "1. Define a function with name main. This function is not meant to take in any parameters.\n",
    "2. Move the code that is currently outside of any function into the main function, be wary of indentation.\n",
    "3. Insert at the end a call to the function main()."
   ]
  }
 ],
 "metadata": {
  "kernelspec": {
   "display_name": "Python 3",
   "language": "python",
   "name": "python3"
  },
  "language_info": {
   "codemirror_mode": {
    "name": "ipython",
    "version": 3
   },
   "file_extension": ".py",
   "mimetype": "text/x-python",
   "name": "python",
   "nbconvert_exporter": "python",
   "pygments_lexer": "ipython3",
   "version": "3.7.3"
  },
  "toc": {
   "base_numbering": 1,
   "nav_menu": {},
   "number_sections": false,
   "sideBar": true,
   "skip_h1_title": false,
   "title_cell": "Table of Contents",
   "title_sidebar": "Contents",
   "toc_cell": false,
   "toc_position": {},
   "toc_section_display": true,
   "toc_window_display": false
  }
 },
 "nbformat": 4,
 "nbformat_minor": 4
}
