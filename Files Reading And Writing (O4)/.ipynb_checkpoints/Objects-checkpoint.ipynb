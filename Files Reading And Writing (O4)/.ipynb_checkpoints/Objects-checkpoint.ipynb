{
 "cells": [
  {
   "cell_type": "markdown",
   "metadata": {},
   "source": [
    "# Objects\n",
    "\n",
    "Object oriented programming normally is a course on it's own, but we will give you a short intro to it now.\n",
    "\n",
    "Objects are created by a blueprint, called a class. The class can be tought of as a bit general, and then we create a instance of that class - the object.\n",
    "\n",
    "Let's see two examples: a person and a car."
   ]
  },
  {
   "cell_type": "code",
   "execution_count": 14,
   "metadata": {},
   "outputs": [
    {
     "name": "stdout",
     "output_type": "stream",
     "text": [
      "Quanted\n",
      "1\n",
      "Objects can be very useful!\n"
     ]
    }
   ],
   "source": [
    "class Person:\n",
    "    # This initalize the object. When creating you provide a name and the age.\n",
    "    def __init__(self, name, age):\n",
    "        self.name = name\n",
    "        self.age = age\n",
    "    \n",
    "    # This is a method, or a function the person can do.\n",
    "    def talk(self, sentence):\n",
    "        print(sentence)\n",
    "        \n",
    "# We could write many more functions, like walk and eat.\n",
    "        \n",
    "quant = Person(\"Quanted\", 1)\n",
    "print(quant.name)\n",
    "print(quant.age)\n",
    "quant.talk(\"Objects can be very useful!\")\n",
    "\n",
    "# print(quant) # Uncomment this line and see what is prints!"
   ]
  },
  {
   "cell_type": "markdown",
   "metadata": {},
   "source": [
    "### We can now create as many persons we like! Let's create another class, a car!"
   ]
  },
  {
   "cell_type": "code",
   "execution_count": 13,
   "metadata": {},
   "outputs": [
    {
     "name": "stdout",
     "output_type": "stream",
     "text": [
      "Tesla\n",
      "Model3\n",
      "Driver is Quanted\n",
      "Quanted drove 50 kilometers.\n"
     ]
    }
   ],
   "source": [
    "class Car:\n",
    "    \n",
    "    def __init__(self, brand, model, driver):\n",
    "        self.brand = brand\n",
    "        self.model = model\n",
    "        self.driver = driver\n",
    "        \n",
    "    def drive(self, kilometers):\n",
    "        print(self.driver.name + \" drove \" + str(kilometers) + \" kilometers.\")\n",
    "    \n",
    "    def getDriver(self):\n",
    "        print(\"Driver is \" + self.driver.name)\n",
    "        \n",
    "tesla = Car(\"Tesla\", \"Model3\", quant)\n",
    "print(tesla.brand)\n",
    "print(tesla.model)\n",
    "tesla.getDriver()\n",
    "tesla.drive(50)"
   ]
  },
  {
   "cell_type": "markdown",
   "metadata": {},
   "source": [
    "As you can see, we can use the person object as the driver of the car object."
   ]
  },
  {
   "cell_type": "markdown",
   "metadata": {},
   "source": [
    "## Self\n",
    "\n",
    "When reading the code, you can see the word **self**. What does this mean? The word self refers to the initialized object, so literally itself. As we see, when writing a function in a class in Python we always provide the self as a parameter.\n",
    "\n",
    "## Method and behavior\n",
    "\n",
    "Normally we talk about object having a state and a behavior. In other words, some value they contain and some action they can perfrom. For us it looks like a variable they store and a function the can perform.\n",
    "\n",
    "Look at the Person object. Each person got a name and an age, and all (most) people can talk. We could of course extend this and let each Person store a mom and a father and list of siblings as it's state. And we could let each Person have a method for walking and running.\n",
    "\n",
    "The same goes for the Car object. We could have a variable with availible seats, a state, and have a method to add a passenger while there are seats availible."
   ]
  },
  {
   "cell_type": "markdown",
   "metadata": {},
   "source": [
    "## Your turn!\n",
    "\n",
    "Now you are going to create you own class. Make a ferry class:\n",
    "\n",
    "- Take in a list of car objects. These are all the cars onboard.\n",
    "- Have a method/function to count how many cars there are onborad.\n",
    "- Give the ferry methods to dock and undock, which updates the state of the ferry.\n",
    "\n",
    "### Extra\n",
    "- As for now, the cars only have a driver. That sounds lonely! Update the Car class to take inn a list of passangers, or Persons. \n",
    "- Finally give the ferry a method to calculate the total number of passangers."
   ]
  },
  {
   "cell_type": "code",
   "execution_count": null,
   "metadata": {},
   "outputs": [],
   "source": [
    "# Write your code here!"
   ]
  }
 ],
 "metadata": {
  "kernelspec": {
   "display_name": "Python 3",
   "language": "python",
   "name": "python3"
  },
  "language_info": {
   "codemirror_mode": {
    "name": "ipython",
    "version": 3
   },
   "file_extension": ".py",
   "mimetype": "text/x-python",
   "name": "python",
   "nbconvert_exporter": "python",
   "pygments_lexer": "ipython3",
   "version": "3.7.3"
  }
 },
 "nbformat": 4,
 "nbformat_minor": 4
}
