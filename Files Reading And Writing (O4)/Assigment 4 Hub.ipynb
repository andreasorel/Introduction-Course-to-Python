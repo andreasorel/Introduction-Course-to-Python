{
 "cells": [
  {
   "cell_type": "markdown",
   "metadata": {},
   "source": [
    "# Reading from files and object oriented programming\n",
    "\n",
    "In this assignment we will talk about reading from files both with Pythons built in functions and a libary called Pandas. We will also introduce the consept of objects.\n",
    "\n",
    "## Goals 🏆\n",
    "* Learn to read and write from textfiles.\n",
    "* Learn to read and write to a csv-file.\n",
    "* Get introduced to object oriented programming.\n",
    "\n",
    "---\n",
    "# Assignments\n",
    "\n",
    "Assignment | Module\n",
    "--- | --- \n",
    "[Introduction to Read from file](File.ipynb) | Jupyter notebooks\n",
    "[Introduction to Pandas](IntroPandas.ipynb) | Jupyter notebooks\n",
    "[Introduction to Read from CSV with Pandas](ReadPandas.ipynb) | Jupyter notebooks\n",
    "[Introduction to Objects and Classes](Objects.ipynb) | Jupyter notebooks"
   ]
  },
  {
   "cell_type": "code",
   "execution_count": null,
   "metadata": {},
   "outputs": [],
   "source": []
  }
 ],
 "metadata": {
  "kernelspec": {
   "display_name": "Quanted",
   "language": "python",
   "name": "quanted"
  },
  "language_info": {
   "codemirror_mode": {
    "name": "ipython",
    "version": 3
   },
   "file_extension": ".py",
   "mimetype": "text/x-python",
   "name": "python",
   "nbconvert_exporter": "python",
   "pygments_lexer": "ipython3",
   "version": "3.6.11"
  },
  "widgets": {
   "application/vnd.jupyter.widget-state+json": {
    "state": {},
    "version_major": 2,
    "version_minor": 0
   }
  }
 },
 "nbformat": 4,
 "nbformat_minor": 4
}
