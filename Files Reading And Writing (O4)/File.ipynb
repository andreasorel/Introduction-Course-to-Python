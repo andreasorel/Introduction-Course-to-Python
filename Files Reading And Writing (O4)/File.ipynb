{
 "cells": [
  {
   "cell_type": "markdown",
   "metadata": {},
   "source": [
    "# Read from file"
   ]
  },
  {
   "cell_type": "markdown",
   "metadata": {},
   "source": [
    "A very nice feature in Python is that you can open and read from files! We do this by using the **open()** function Python provide for us.\n",
    "\n",
    "The **open()** function takes in two parameters:\n",
    "* A file. Either the complete path to the file, or the path to the file from where your python file is located.\n",
    "* The mode you want to open the file in.\n",
    "\n",
    "These are the modes you want to be familiar with:\n",
    "* \"r\" - open the file to read from it.\n",
    "* \"a\" - open the file to append data to the end of it.\n",
    "* \"w\" - open the file to write over the file.\n",
    "\n",
    "open() can also be used to create the file:\n",
    "* \"x\" - Create, will create a file and give an error if the file exist.\n",
    "* \"a\" - Append, create the file if the file does not exist.\n",
    "* \"w\" - Write, create the file if the file does not exist."
   ]
  },
  {
   "cell_type": "code",
   "execution_count": 4,
   "metadata": {},
   "outputs": [
    {
     "name": "stdout",
     "output_type": "stream",
     "text": [
      "Test1\n"
     ]
    }
   ],
   "source": [
    "file = open(\"demofile.txt\", \"r\") # Demofile is located in the same folder as this Jupyter file.\n",
    "print(file.read())"
   ]
  },
  {
   "cell_type": "code",
   "execution_count": 2,
   "metadata": {},
   "outputs": [
    {
     "name": "stdin",
     "output_type": "stream",
     "text": [
      "Write something to add to the file:  Test\n"
     ]
    }
   ],
   "source": [
    "file = open(\"demofile.txt\", \"a\")\n",
    "text_to_write = input(\"Write something to add to the file: \")\n",
    "file.write(text_to_write)\n",
    "file.close()\n",
    "\n",
    "# Now try the code above once more!"
   ]
  },
  {
   "cell_type": "code",
   "execution_count": 3,
   "metadata": {},
   "outputs": [
    {
     "name": "stdin",
     "output_type": "stream",
     "text": [
      "Write the new content to the file:  Test1\n"
     ]
    }
   ],
   "source": [
    "file = open(\"demofile.txt\", \"w\")\n",
    "text_to_write = input(\"Write the new content to the file: \")\n",
    "file.write(text_to_write)\n",
    "file.close()\n",
    "\n",
    "# Now try the read code once more!"
   ]
  },
  {
   "cell_type": "code",
   "execution_count": null,
   "metadata": {},
   "outputs": [],
   "source": []
  }
 ],
 "metadata": {
  "kernelspec": {
   "display_name": "Python 3",
   "language": "python",
   "name": "python3"
  },
  "language_info": {
   "codemirror_mode": {
    "name": "ipython",
    "version": 3
   },
   "file_extension": ".py",
   "mimetype": "text/x-python",
   "name": "python",
   "nbconvert_exporter": "python",
   "pygments_lexer": "ipython3",
   "version": "3.7.3"
  }
 },
 "nbformat": 4,
 "nbformat_minor": 4
}
