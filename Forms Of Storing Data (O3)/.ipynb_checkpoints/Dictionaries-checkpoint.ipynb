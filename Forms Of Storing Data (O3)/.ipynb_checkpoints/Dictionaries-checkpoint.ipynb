{
 "cells": [
  {
   "cell_type": "markdown",
   "metadata": {},
   "source": [
    "# Lists\n",
    "\n",
    "Lists is as simple as it sound, it is just an arrangement of stuff. What is cool about Python is that you can store different datatypes in your list! This is not commen in other programming languages.\n",
    "\n",
    "We can make a list in different ways. We can use the built in function in Python **list()**. We normally store this list in a variable, like so: **our_list = list()**.\n",
    "\n",
    "Another way to make a list is with brackets. Then we can write out list like this: **our_list = [\"Item 1\", \"Item 2\"]**.\n",
    "\n",
    "The list have methods we can use to add or remove data in the list."
   ]
  },
  {
   "cell_type": "code",
   "execution_count": 1,
   "metadata": {},
   "outputs": [
    {
     "name": "stdout",
     "output_type": "stream",
     "text": [
      "['Sleep', 100, 'Q', 123.456, True]\n",
      "['Sleep', 'Q', 123.456, True]\n",
      "The length of the list is 4\n"
     ]
    }
   ],
   "source": [
    "my_list = list()\n",
    "\n",
    "my_list.append(\"Sleep\")\n",
    "my_list.append(100)\n",
    "my_list.append('Q')\n",
    "my_list.append(123.456)\n",
    "my_list.append(True)\n",
    "\n",
    "print(my_list)\n",
    "\n",
    "my_list.remove(100)\n",
    "\n",
    "print(my_list)\n",
    "print(f\"The length of the list is {len(my_list)}\")"
   ]
  },
  {
   "cell_type": "markdown",
   "metadata": {},
   "source": [
    "## Indexing\n",
    "\n",
    "Another way to access the is index. Index is term for the position in the list; the first, second, third etc. But, in the computer world we often start counting on 0 - called zero indexing. You can also get the element at the back of the list with index **-1**. This select from the back, and can be nice for when you don't know the complete length of the list. We access list by index using brackets. It looks like this: **listname[0]**, which gives us the first item.\n",
    "\n",
    "## Slicing\n",
    "\n",
    "Slicing is quite similar to indexing, but you select more items. You can for example access the second, third and fourth element, then you would write **[2:5]**. This means we slice inclusive 2 to exclusive 5. You can also select the rest of the items from a specific index, or from the front. Remember, we start counting on 0\n",
    "\n",
    "- list[start:stop] - items start through stop-1.\n",
    "- list[start:] - items start through the rest of the list.\n",
    "- list[:stop] - items from the beginning through stop-1.\n",
    "- list[:] - a copy of the whole list."
   ]
  },
  {
   "cell_type": "code",
   "execution_count": 10,
   "metadata": {},
   "outputs": [
    {
     "name": "stdout",
     "output_type": "stream",
     "text": [
      "121\n",
      "12\n",
      "[121, 4, 300, 87, 35, 7, 2, 6, 12]\n",
      "[4, 300, 87]\n"
     ]
    }
   ],
   "source": [
    "my_list = [121,4,2,87,35,7,2,6,12]\n",
    "\n",
    "print(my_list[0]) # The first element in the list\n",
    "print(my_list[-1]) # Last element in the list\n",
    "\n",
    "my_list[2] = 300 # Change element 3 to 300\n",
    "\n",
    "print(my_list)\n",
    "\n",
    "print(my_list[1:4]) # Print element 2, 3 and 4"
   ]
  },
  {
   "cell_type": "markdown",
   "metadata": {},
   "source": [
    "## Sort\n",
    "\n",
    "Lists also have a built in function to use on the list. One of them is to sort. It works by putting a **.sort()** behind our list."
   ]
  },
  {
   "cell_type": "code",
   "execution_count": 5,
   "metadata": {},
   "outputs": [
    {
     "name": "stdout",
     "output_type": "stream",
     "text": [
      "[121, 4, 2, 87, 35, 7, 2, 6, 12]\n",
      "[2, 2, 4, 6, 7, 12, 35, 87, 121]\n"
     ]
    }
   ],
   "source": [
    "my_list = [121,4,2,87,35,7,2,6,12]\n",
    "print(my_list)\n",
    "\n",
    "my_list.sort() # Here we sort the list\n",
    "print(my_list)"
   ]
  },
  {
   "cell_type": "markdown",
   "metadata": {},
   "source": [
    "## Make you own list!\n",
    "\n",
    "Now it's your turn! Do the following:\n",
    "\n",
    "- Write your own list. The list can contain what ever you want!\n",
    "- Read about the insert() method in Python docs, and implement it! \n",
    "\n",
    "Docs about lists: https://docs.python.org/2/tutorial/datastructures.html"
   ]
  },
  {
   "cell_type": "code",
   "execution_count": null,
   "metadata": {},
   "outputs": [],
   "source": [
    "# Write your code here!"
   ]
  },
  {
   "cell_type": "markdown",
   "metadata": {},
   "source": [
    "# Tuples\n",
    "\n",
    "Tuples is quite like a list but with the attribute that you can't change it.\n",
    "\n",
    "- You can't add elements to a tuple. Tuples have no append or extend method.\n",
    "- You can't remove elements from a tuple. Tuples have no remove or pop method.\n",
    "- You can find elements in a tuple, since this doesn’t change the tuple.\n",
    "- You can also use the in operator to check if an element exists in the tuple.\n",
    "\n",
    "You declare it with parentheses and not brackets."
   ]
  },
  {
   "cell_type": "code",
   "execution_count": 3,
   "metadata": {},
   "outputs": [
    {
     "name": "stdout",
     "output_type": "stream",
     "text": [
      "('Quanted', 2456, True)\n",
      "2456\n",
      "<class 'str'>\n",
      "<class 'int'>\n",
      "<class 'bool'>\n"
     ]
    }
   ],
   "source": [
    "my_tuple = (\"Quanted\", 2456, True)\n",
    "\n",
    "print(my_tuple)\n",
    "print(my_tuple[1])\n",
    "\n",
    "for item in my_tuple:\n",
    "    print(type(item))"
   ]
  },
  {
   "cell_type": "markdown",
   "metadata": {},
   "source": [
    "# Sets\n",
    "\n",
    "Sets are unlike a list and tuple not ordered or indexed. It also only contain each element once. Once we add an item we can't change it, only remove it and add another. If we want to check out each element by itself, we have to loop through the set.\n",
    "\n",
    "In Python we declare them with curly brackets.\n",
    "\n",
    "### Add\n",
    "To add an element to the set we simply use the **.add()** method, like a list.\n",
    "\n",
    "### Update\n",
    "With update, we can add a set to another set. If you have to sets, set1 and set2, you could add set2 to set1 like this: **set1.update(set2)**.\n",
    "\n",
    "### Remove\n",
    "If we want to remove a element, we use **.remove()**."
   ]
  },
  {
   "cell_type": "code",
   "execution_count": 14,
   "metadata": {},
   "outputs": [
    {
     "name": "stdout",
     "output_type": "stream",
     "text": [
      "{2456, 'Quanted', True}\n",
      "{2456, True, False}\n",
      "{False, True, 1234, 2456, 'String'}\n"
     ]
    }
   ],
   "source": [
    "my_set = {\"Quanted\", 2456, True}\n",
    "print(my_set)\n",
    "\n",
    "my_set.add(False)\n",
    "my_set.remove(\"Quanted\")\n",
    "print(my_set)\n",
    "\n",
    "new_set = {True, \"String\", 1234}\n",
    "my_set.update(new_set)\n",
    "print(my_set) # Notice how True is still only once in the set."
   ]
  },
  {
   "cell_type": "markdown",
   "metadata": {},
   "source": [
    "## Make your own wishlist!\n",
    "\n",
    "Try to make your own wishlist using a set. The set makes sure you won't wish for the same thing twice!"
   ]
  },
  {
   "cell_type": "code",
   "execution_count": null,
   "metadata": {},
   "outputs": [],
   "source": [
    "# Write you code here!"
   ]
  },
  {
   "cell_type": "markdown",
   "metadata": {},
   "source": [
    "# Dictionaries\n",
    "\n",
    "A dictionary is a collection which is unordered, changeable and indexed. \n",
    "\n",
    "To write a dictionary in Python we use curlybrackets, a key and a value. To access the value we have two methods:\n",
    "\n",
    "- We index using the key, like so **dict[\"key\"]**\n",
    "- We use the .get() method, like so **dict.get(\"key\")**"
   ]
  },
  {
   "cell_type": "code",
   "execution_count": 17,
   "metadata": {},
   "outputs": [
    {
     "name": "stdout",
     "output_type": "stream",
     "text": [
      "{'Name': 'Quanted', 'Age': 1234, 'Programming': True}\n",
      "1234\n",
      "{'Name': 'Quanted', 'Age': 1234, 'Programming': False}\n"
     ]
    }
   ],
   "source": [
    "my_dict = {\n",
    "    \"Name\" : \"Quanted\",\n",
    "    \"Age\" : 1234,\n",
    "    \"Programming\" : False\n",
    "}\n",
    "\n",
    "print(my_dict)\n",
    "print(my_dict.get(\"Age\"))\n",
    "\n",
    "my_dict[\"Programming\"] = True\n",
    "\n",
    "print(my_dict)"
   ]
  },
  {
   "cell_type": "markdown",
   "metadata": {},
   "source": [
    "## Make you own checklist!\n",
    "\n",
    "Make a simple checklist.\n",
    "\n",
    "- The key is a String with the task to do.\n",
    "- The value the the boolean value of True of False to indicate if the task is done or not.\n",
    "- Write a loop counting how many task that are completed."
   ]
  },
  {
   "cell_type": "code",
   "execution_count": null,
   "metadata": {},
   "outputs": [],
   "source": [
    "# Write your code here!"
   ]
  }
 ],
 "metadata": {
  "kernelspec": {
   "display_name": "Python 3",
   "language": "python",
   "name": "python3"
  },
  "language_info": {
   "codemirror_mode": {
    "name": "ipython",
    "version": 3
   },
   "file_extension": ".py",
   "mimetype": "text/x-python",
   "name": "python",
   "nbconvert_exporter": "python",
   "pygments_lexer": "ipython3",
   "version": "3.7.3"
  }
 },
 "nbformat": 4,
 "nbformat_minor": 4
}
