{
 "cells": [
  {
   "cell_type": "markdown",
   "metadata": {},
   "source": [
    "# Introduction to Jupyter 🔬\n",
    "\n",
    "Hi, and welcome to Jupyter, another way to write code! Jupyter is a system that allows you to create documents that contain both text and code at once. The nice thing here is that you can run the code in the document and see the result immediately. You can try this out now.\n",
    "\n",
    "---"
   ]
  },
  {
   "cell_type": "markdown",
   "metadata": {},
   "source": [
    "**Task a)** Click the code block below and press `ctrl + enter` on the keyboard to execute the code. (It is also possible to click on the code block and then click run in the menu at the top)"
   ]
  },
  {
   "cell_type": "code",
   "execution_count": null,
   "metadata": {},
   "outputs": [],
   "source": [
    "print(\"Welcome to jupyter\")"
   ]
  },
  {
   "cell_type": "markdown",
   "metadata": {},
   "source": [
    "As you can see, the result of the code outputs just below the code block. This is very convenient and you can run the code as many times as you like! If you press `ctrl + enter` in the code block again you will see that the number to the left of the code block increases. This number is used as a reference only and is not something you need to think of as usual.\n",
    "\n",
    "All code blocks in a document can be changed, and this is strongly encouraged! There is a lot of good learning in changing code, thinking about what is going to happen and checking if this is actually happening. For example, you could try running the program below with `ctrl + enter`, make a few changes and check if your new version does what you intended.\n",
    "\n",
    "**Task b)** Change the first line of the code below to print (\"This is my first Jupyter program\")"
   ]
  },
  {
   "cell_type": "code",
   "execution_count": null,
   "metadata": {},
   "outputs": [],
   "source": [
    "print(\"This is a program in Jupyter\") #change this line\n",
    "print(\"The program will now ask you a question.\")\n",
    "navn = input(\"What's your name? \")\n",
    "print(\"Hi\", navn)\n",
    "\n",
    "alder = int(input(\"How old are you? \")) # Here the user must type in a number\n",
    "print(\"You are\", alder + 5, \"years old in five years.\")"
   ]
  },
  {
   "cell_type": "markdown",
   "metadata": {},
   "source": [
    "## Variables between code blocks\n",
    "What is worth noting is that data may exist between the code blocks in a Jupyter Notebook. Let's look at an example. Press `ctrl + enter` in the code block below so that it runs."
   ]
  },
  {
   "cell_type": "code",
   "execution_count": null,
   "metadata": {},
   "outputs": [],
   "source": [
    "message = \"Hello!\""
   ]
  },
  {
   "cell_type": "markdown",
   "metadata": {},
   "source": [
    "Then run the following code block:"
   ]
  },
  {
   "cell_type": "code",
   "execution_count": null,
   "metadata": {},
   "outputs": [],
   "source": [
    "print(message)"
   ]
  },
  {
   "cell_type": "markdown",
   "metadata": {},
   "source": [
    "As you can see, we print out the value of message even though message is not defined in the lower code block. This can be very convenient, but can sometimes be confusing. Try changing the value of `message`to `\"Wow! This was cool!\"` In the first block of code, then press `ctrl + enter` in the second block.\n",
    "\n",
    "As you can see, no message has been updated. This is because we have to run the code block with `message` in order for message to be updated.\n",
    "\n",
    "Now try to run the code block with `message` again and then run the block with print again. Then the correct message should be printed.\n",
    "\n",
    "**Task c)** Change message to `\"Wow, Jupyter is cool!\"` And print it in the block below.\n",
    "\n",
    "This applies not only to variables, but also to functions, which you will learn to use eventually. If you write a function and want to use it in a different code block, you must run the code block each time the function changes just as with variables."
   ]
  },
  {
   "cell_type": "markdown",
   "metadata": {},
   "source": [
    "## Restart the kernel should problems occur\n",
    "If you want to remove all output from the document and restart, you can restart the kernel by `Kernel -> Restart Kernel and Clear All Outputs...`. A box will come up with a scary red button, but this will work just fine. Restarting can also be useful if the document hangs up. We shall see an example of this now.\n",
    "\n",
    "Run the following code block twice without entering anything in the input field that pops up (you have to press the block again to run the second time)."
   ]
  },
  {
   "cell_type": "code",
   "execution_count": null,
   "metadata": {},
   "outputs": [],
   "source": [
    "navn = input(\"What's your name?\")\n",
    "print(\"Hi,\", navn)"
   ]
  },
  {
   "cell_type": "markdown",
   "metadata": {},
   "source": [
    "This was very unfortunate. Now nothing happens and we can't run other code blocks in the document either :(\n",
    "\n",
    "When a code block is waiting for input you cannot run other code blocks, so if you try to run other code blocks these will be put on hold.\n",
    "\n",
    "Now we see that it says `In [*]` at several of our blocks, this means that they wait for other blocks before they even run, in our case we ran the input block again, without submitting anything to the previous run of the block . The program is still waiting for input to the previous block run, even if the field is gone, which is not entirely optimal! If you don't quite understand what's going on here, it's not dangerous. To get out of this we can restart with `Kernel -> Restart Kernel and Clear All Outputs...` in the top menu. **Note: This does not change the code you have written yourself.**\n",
    "\n",
    "**Task d)** Restart the notebook with the command described above."
   ]
  },
  {
   "cell_type": "markdown",
   "metadata": {},
   "source": [
    "## Changing text\n",
    "It is also possible to change the text of a document by double-clicking on a text box, but this is something you rarely need to do. To make the text \"normal\" again after you change, press `ctrl + enter` here as well.\n",
    "\n",
    "Jupyter uses something called markdown to format text. If you want to look at it there is a pretty nice overview [here](https://github.com/adam-p/markdown-here/wiki/Markdown-Cheatsheet?fbclid=IwAR2PRFaYr3YAPnKBzNRpgaumRufU4WHbT6Xd-0v9EsJwxtgqxOyzLluvPOA#tables). It is also possible to add LaTeX (a text format to create nice math expressions) in jupyter text boxes. You can change the cell mode in the menu above where it states which cell mode you are in (Code, Markdown or Raw).\n",
    "\n",
    "**Task e)** Changing the text box below to `I changed the text!`. Note: In a text box, you do not need to write python code"
   ]
  },
  {
   "cell_type": "markdown",
   "metadata": {},
   "source": [
    "**Ditt svar:** <dobbelklikk her for å svare\\>"
   ]
  },
  {
   "cell_type": "markdown",
   "metadata": {},
   "source": [
    "## Warning\n",
    "Jupyter are generally not so happy that you have the same document opened in multiple tabs. If you have this, the changes you make in one tab may overwrite the changes you make in another tab, which can be unfortunate. Therefore, make sure you never have more than one tab opened with the same document."
   ]
  },
  {
   "cell_type": "code",
   "execution_count": null,
   "metadata": {},
   "outputs": [],
   "source": [
    "Hey print"
   ]
  }
 ],
 "metadata": {
  "kernelspec": {
   "display_name": "Quanted",
   "language": "python",
   "name": "quanted"
  },
  "language_info": {
   "codemirror_mode": {
    "name": "ipython",
    "version": 3
   },
   "file_extension": ".py",
   "mimetype": "text/x-python",
   "name": "python",
   "nbconvert_exporter": "python",
   "pygments_lexer": "ipython3",
   "version": "3.6.11"
  },
  "widgets": {
   "application/vnd.jupyter.widget-state+json": {
    "state": {},
    "version_major": 2,
    "version_minor": 0
   }
  }
 },
 "nbformat": 4,
 "nbformat_minor": 4
}
