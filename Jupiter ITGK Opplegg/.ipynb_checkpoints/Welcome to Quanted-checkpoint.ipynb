{
 "cells": [
  {
   "cell_type": "markdown",
   "metadata": {},
   "source": [
    "# Welcome to Quanted Assignment System!\n",
    "In this sneak preview our goal is for you to get familiar with the platform and provide feedback after the user test is complete. You will use Python to write your code.\n",
    "\n",
    "\n",
    "## Goals 🏆\n",
    "* Perform simple calculations using addition, subtraction, multiplication, division and modulo\n",
    "* Understand the difference between the four elementary datatypes - int, float, str and boolean.\n",
    "* Use mathematical notation\n",
    "* Read from file\n",
    "* Create a simple function that does some calculation\n",
    "\n",
    "---\n",
    "# Assignments\n",
    "\n",
    "Assignment | Module\n",
    "--- | --- \n",
    "[Introduction to Jupyter](Introduction%20to%20Jupyter.ipynb) | Jupyter notebooks\n",
    "[All the Basics (O1)](All%20The%20Basics%20(O1)/Assigment%201%20Hub.ipynb) | Jupyter notebooks\n",
    "[More on Logic and Functions (02)](More%20On%20Logic%20And%20Functions%20(O2)/Assigment%202%20Hub.ipynb) | Jupyter notebooks\n",
    "[Forms of Storing Data (O3)](Forms%20Of%20Storing%20Data%20(O3)/Assigment%203%20Hub.ipynb) | Jupyter notebooks\n",
    "[Files Reading and Writing (O4)](Files%20Reading%20And%20Writing%20(O4)/Assigment%204%20Hub.ipynb) | Jupyter notebooks"
   ]
  }
 ],
 "metadata": {
  "kernelspec": {
   "display_name": "Quanted",
   "language": "python",
   "name": "quanted"
  },
  "language_info": {
   "codemirror_mode": {
    "name": "ipython",
    "version": 3
   },
   "file_extension": ".py",
   "mimetype": "text/x-python",
   "name": "python",
   "nbconvert_exporter": "python",
   "pygments_lexer": "ipython3",
   "version": "3.6.11"
  },
  "widgets": {
   "application/vnd.jupyter.widget-state+json": {
    "state": {},
    "version_major": 2,
    "version_minor": 0
   }
  }
 },
 "nbformat": 4,
 "nbformat_minor": 4
}
