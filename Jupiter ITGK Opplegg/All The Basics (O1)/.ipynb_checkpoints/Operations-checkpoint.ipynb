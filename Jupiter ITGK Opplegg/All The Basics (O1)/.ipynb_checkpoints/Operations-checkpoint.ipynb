{
 "cells": [
  {
   "cell_type": "markdown",
   "metadata": {
    "deletable": false,
    "run_control": {
     "frozen": true
    }
   },
   "source": [
    "# Calculations\n",
    "\n",
    "**What you will learn**:\n",
    "\n",
    "* Early sequential programming\n",
    "\n",
    "* Executing simple calculations"
   ]
  },
  {
   "cell_type": "markdown",
   "metadata": {
    "deletable": false,
    "heading_collapsed": true,
    "run_control": {
     "frozen": true
    },
    "solution": "hidden"
   },
   "source": [
    "### Math opperations: Normal opperations, bracets, precedent - Tutorial part 1:"
   ]
  },
  {
   "cell_type": "markdown",
   "metadata": {
    "deletable": false,
    "hidden": true,
    "run_control": {
     "frozen": true
    }
   },
   "source": [
    "There are many similarities between Python and normal mathematical writing of arithmetic expressions, but also some differences.\n",
    "\n",
    "The tabell bellow summerises the most basic:\n",
    "    \n",
    "Mathematics | Python | Note\n",
    "--- | --- | ---\n",
    "a + b | a + b | It is normal to have a space on both sides of +, but is not required.<br> Could also have writen a+b. The same applies for all mathematical opperators. <br> This is for your own preference, but more \"air\" between usually makes it easier to read.\n",
    "a - b | a - b | Uses the noraml dash symbol for subtraction.\n",
    "a · b |a * b| Uses the asterisk for multiplication\n",
    "ab|<span style=\"color:red\">**NO**</span>| In Python you **have** to write the asterisk, can't be omited.\n",
    "a : b|a / b| Uses the normal slash for division, **not** colon or horizontal division symbol.\n",
    "a<sup>b</sup>|a ** b| Double asterisk for the power of something. The asterisks must be directly after each other with no space.\n",
    "[(a + b) * c - d]|((a + b) * c - d)| In mathematical notation it is normal to use different brackets like () [] {} <br> if there is a expression with multiple levels of brackets in each other. <br> In Python you always use normal brackets () for **all** levels. [] and {} are used for different functions.\n",
    "\n",
    "**Precedent** between operators still work like in mathematics.\n",
    "\n",
    "* Multiplication and division have higher precedense then addition and subtraction.\n",
    "* Powers have higher precedense then multiplication and division.\n",
    "* Bracets can be used to have higher precedense for normally less precedensed operations.\n",
    "* If you want to \"translate\" a mathematical expression with brackets into Python, use the bracets in the same way you would normally in the Python code.\n",
    "\n",
    "**In some cases you will need extra bracets in the Python code which you would not need in normal matematical expressions. Example:** \n",
    "\n",
    " $$\\frac{x-3}{4+x}$$  \n",
    "\n",
    "Horizontal (brøkstrek) shows that the entirety of 2-x is the numerator and the entirety of 3+x is the denominator. With Python's slash for division you have to use brackets here: (2 - x) / (3 + x)\n",
    "\n",
    " $$2^{xy+3}$$\n",
    "\n",
    "The example shows that the entirety of xy+1 is the power. In Python you have to write 2 ** (x * y + 3)."
   ]
  },
  {
   "cell_type": "markdown",
   "metadata": {
    "deletable": false,
    "run_control": {
     "frozen": true
    }
   },
   "source": [
    "### a) Correct programming of arithmetuc expressions"
   ]
  },
  {
   "cell_type": "markdown",
   "metadata": {
    "deletable": false,
    "run_control": {
     "frozen": true
    }
   },
   "source": [
    "Write inn the correct Python-code in the places where it says None in the same way as its done in the 3 first lines.\n",
    "\n",
    "Afterwards run the program and see if it works and matches the example below."
   ]
  },
  {
   "cell_type": "code",
   "execution_count": 2,
   "metadata": {},
   "outputs": [
    {
     "name": "stdout",
     "output_type": "stream",
     "text": [
      "1+2(−3) = -5\n",
      "[(3+5·2) + 1] : 2 = 7.0\n",
      "-3^2+5*3-7 = -1\n",
      "5:2-4 = None\n",
      "5·12+6-1 = None\n",
      "3(5+2) = None\n",
      "4[(5+3):2 +7] = None\n",
      "(−4)^(-3)+5·(3−7:2) = None\n"
     ]
    }
   ],
   "source": [
    "print('1+2(−3) =', 1 + 2 * (-3))\n",
    "print('[(3+5·2) + 1] : 2 =', ((3 + 5 * 2) + 1) / 2)\n",
    "print('-3^2+5*3-7 =', -3**2 + 5 * 3 - 7)\n",
    "#1)\n",
    "print('5:2-4 =', None)\n",
    "#2)\n",
    "print('5·12+6-1 =', None)\n",
    "#3)\n",
    "print('3(5+2) =', None)\n",
    "#4)\n",
    "print('4[(5+3):2 +7] =', None)\n",
    "#5)\n",
    "print('(−4)^(-3)+5·(3−7:2) =', None)"
   ]
  },
  {
   "cell_type": "markdown",
   "metadata": {
    "deletable": false,
    "run_control": {
     "frozen": true
    }
   },
   "source": [
    "If you have done it correctly after running the programm it will show as follows:\n",
    "\n",
    "**Printed to screen:**\n",
    "```python\n",
    "1+2(-3) = -5\n",
    "[(3+5· 2)+1]:2 = 7.0\n",
    "-3^2 + 5*3 - 7 = -1\n",
    "5:2-4 = -1.5\n",
    "5· 12+6-1 = 65\n",
    "3(5+2) = 21\n",
    "4[(5+3):2 +7] = 44.0\n",
    "(-4)^(-3)+5·(3-7:2) = -2.515625\n",
    "```"
   ]
  },
  {
   "cell_type": "markdown",
   "metadata": {
    "deletable": false,
    "heading_collapsed": true,
    "run_control": {
     "frozen": true
    },
    "solution": "hidden"
   },
   "source": [
    "### Math opperations: Integer divisjon and Modulo - Tutorial part 2:"
   ]
  },
  {
   "cell_type": "markdown",
   "metadata": {
    "deletable": false,
    "hidden": true,
    "run_control": {
     "frozen": true
    }
   },
   "source": [
    "In addition to normal division / Python also have Integer divisjon which is writen // and modulo which is writen with %.\n",
    "\n",
    "The tabel bellow illustrated how these opperators work:\n",
    "\n",
    "**Expression in Python**|**Result**|**Reason**\n",
    "---|---|---\n",
    "17 / 5\t|3.4\t|Normal division\n",
    "17 // 5|\t3\t|Integer divison, gives the number withouth the decimal values.\n",
    "17 % 5\t|2|\tModulo, gives the remainder of 17 // 5, which means the last 2 that is left.\n",
    "7.75 / 2.5\t|3.1|\tNormal division\n",
    "7.75 // 2.5\t|3.0|\tInteger divison, gives the number withouth the decimal values.<br> In this example it still shows the .0, this is because we divided two decimal numbers therfor it keeps the .0.\n",
    "7.75 % 2.5\t|0.25|\tModulo, gives the remainder of 7.75//2.5 hich means the last 0.25 that is left.\n",
    "\n",
    "Integer divison and modulo have many great uses in programming.\n",
    "\n",
    "One example is calculations with units that deviate from the regular 10, 100, 1000, like for example 60 secounds per minute, 60 minute per hour, 24 hours per day, 7 days per week.\n",
    "\n",
    "The kode below shows how // and % can be used for these calculations."
   ]
  },
  {
   "cell_type": "code",
   "execution_count": 10,
   "metadata": {
    "hidden": true
   },
   "outputs": [
    {
     "name": "stdout",
     "output_type": "stream",
     "text": [
      "215 secounds becomes 3 minutes and 35 secounds.\n",
      "53 days become 7 weeks and 4 days\n"
     ]
    }
   ],
   "source": [
    "print(215, \"secounds becomes\", 215 // 60, \"minutes and\", 215 % 60, \"secounds.\")\n",
    "print(53, \"days become\", 53 // 7, \"weeks and\", 53 % 7, \"days\")"
   ]
  },
  {
   "cell_type": "markdown",
   "metadata": {
    "deletable": false,
    "run_control": {
     "frozen": true
    }
   },
   "source": [
    "### b) Use of integer division and modulo\n",
    "\n",
    "Replace the word **None** in the print-statements on line 2, 3 and 4 with either // or % in the same way as on line 1 so the statement is correct."
   ]
  },
  {
   "cell_type": "code",
   "execution_count": 4,
   "metadata": {},
   "outputs": [
    {
     "name": "stdout",
     "output_type": "stream",
     "text": [
      "355 minutes becomes 5 hours and 55 minutes.\n",
      "403 secounds becomes None minutes and None secounds.\n",
      "67 days becomes None weeks and None days.\n",
      "100 hours becomes None days and None hours.\n"
     ]
    }
   ],
   "source": [
    "print(355, \"minutes becomes\", 355 // 60, \"hours and\", 355 % 60, \"minutes.\")\n",
    "print(403, \"secounds becomes\", None, \"minutes and\", None, \"secounds.\")\n",
    "print(67, \"days becomes\", None, \"weeks and\", None, \"days.\")\n",
    "print(100, \"hours becomes\", None, \"days and\", None, \"hours.\")"
   ]
  },
  {
   "cell_type": "markdown",
   "metadata": {
    "deletable": false,
    "run_control": {
     "frozen": true
    }
   },
   "source": [
    "**Example print if you have done it correctly**\n",
    "```\n",
    "355 minutes becomes 5 hours and 55 minutt.  \n",
    "403 secounds becomes 6 minutes and 43 secounds.\n",
    "67 days becomes 9 weeks and 4 days.  \n",
    "100 hours becomes 4 days and 4 hours.\n",
    "```"
   ]
  },
  {
   "cell_type": "markdown",
   "metadata": {
    "deletable": false,
    "heading_collapsed": true,
    "run_control": {
     "frozen": true
    },
    "solution": "hidden"
   },
   "source": [
    " ### Math opperations: Built-in features and constants - Tutorial part 3:"
   ]
  },
  {
   "cell_type": "markdown",
   "metadata": {
    "deletable": false,
    "hidden": true,
    "run_control": {
     "frozen": true
    }
   },
   "source": [
    "Python have many built-in features. We seperate them into two categories.\n",
    "\n",
    "* Functions in the **standard-libary**. These are always available and can be used without doing anything beforehand.\n",
    "* Functions in the **other-libararies**. To use these we need to import the spesific libary we want to use at the start of the program.\n",
    "\n",
    "A full list of the built-in features in the standard-libary can we viewed [here](https://docs.python.org/3/library/functions.html).\n",
    "\n",
    "Some built-in functions that you have already used are print(), input(), str(), int(), float().\n",
    "\n",
    "Speseficly related to math we also have the built-in features **abs()** to get the absolute value of a number and **round()** for rounding a number in the standard-libary.\n",
    "\n",
    "The code below demonstates some uses of these build-in functions:\n",
    "\n",
    "**Built-in functions**"
   ]
  },
  {
   "cell_type": "code",
   "execution_count": 5,
   "metadata": {
    "hidden": true
   },
   "outputs": [
    {
     "name": "stdout",
     "output_type": "stream",
     "text": [
      "Built-in functions can be used directly.\n",
      "The function print() shows info on the screen.\n",
      "The absolute value of |-3|, is 3\n",
      "4.75 rounded to a integer is 5\n",
      "4.75 rounded to one decimal is 4.8\n"
     ]
    }
   ],
   "source": [
    "print(\"Built-in functions can be used directly.\")\n",
    "print(\"The function print() shows info on the screen.\")\n",
    "print(\"The absolute value of |-3|, is\", abs(-3) )\n",
    "print(4.75, \"rounded to a integer is\", round(4.75) )\n",
    "print(4.75, \"rounded to one decimal is\", round(4.75, 1) )"
   ]
  },
  {
   "cell_type": "markdown",
   "metadata": {
    "deletable": false,
    "hidden": true,
    "run_control": {
     "frozen": true
    }
   },
   "source": [
    "Regularly used libraries that you will need:\n",
    "\n",
    "* **math** which includes mathmatical functions like, sin(), cos(), tan(), sqrt(), log(), gcd(), factorial(), as well as some common mathematical constants like pi and e.\n",
    "* **random**. which includes functions to generate random numbers, one example is random() which gives a random number from 0 to 1. Another example is randint(a, b) for a random integer between the numbers a and b. a <= x <= b.\n",
    "* **turtle**, which includes some functions to draw simple graphical figures to the screen, one example is circle() to draw a sircle. This library however can't be used with Jupyter.\n",
    "\n",
    "The code below shows some functions and constants from the Math-library.\n",
    "\n",
    "**Math-functions**"
   ]
  },
  {
   "cell_type": "code",
   "execution_count": 8,
   "metadata": {
    "hidden": true
   },
   "outputs": [
    {
     "name": "stdout",
     "output_type": "stream",
     "text": [
      "The square root of 8 is 2.8284271247461903\n",
      "Sinus to 2 is 0.9092974268256817\n",
      "Biggest common divider for 18 and 12 is 6\n",
      "The constant pi and e is accesed in Python giving 3.141592653589793 and 2.718281828459045\n",
      "It also have the constant tau which equals 2*pi: 6.283185307179586\n",
      "A circle with radius of 4 has a area of 50.26548245743669 and circumference of 25.132741228718345\n"
     ]
    }
   ],
   "source": [
    "import math\n",
    "print(\"The square root of 8 is\", math.sqrt(8) )\n",
    "print(\"Sinus to 2 is\", math.sin(2) )\n",
    "print(\"Biggest common divider for 18 and 12 is\", math.gcd(18, 12) )\n",
    "print(\"The constant pi and e is accesed in Python giving\", math.pi, \"and\", math.e)\n",
    "print(\"It also have the constant tau which equals 2*pi:\", math.tau)\n",
    "print(\"A circle with radius of 4 has a area of\", math.pi * 4**2, \"and circumference of\", math.tau * 4)"
   ]
  },
  {
   "cell_type": "markdown",
   "metadata": {
    "deletable": false,
    "hidden": true,
    "run_control": {
     "frozen": true
    }
   },
   "source": [
    "As shown in the example to use a libary that is not the standard one we need to import it. To do so we write import followed by the name of the libary, like so: Import math.\n",
    "Every function from the math-libary will need the prefix of math. in front of the name of the function or the constant. Example: math.pi or math.sqrt().\n",
    "\n",
    "If you find it a waste to write math. in front of every function and constants there is a solution. Though you will need to import the libary in a bit of a different way.\n",
    "\n",
    "**Alternative import**"
   ]
  },
  {
   "cell_type": "code",
   "execution_count": 9,
   "metadata": {
    "ExecuteTime": {
     "end_time": "2019-07-01T09:14:10.412403Z",
     "start_time": "2019-07-01T09:14:10.400269Z"
    },
    "hidden": true
   },
   "outputs": [
    {
     "name": "stdout",
     "output_type": "stream",
     "text": [
      "The square root of 8 is 2.8284271247461903\n",
      "Sinus to 2 is 0.9092974268256817\n",
      "Biggest common divider for 18 and 12 is 6\n",
      "The constant pi and e is accesed in Python giving 3.141592653589793 and 2.718281828459045\n",
      "It also have the constant tau which equals 2*pi: 6.283185307179586\n",
      "A circle with radius of 4 has a area of 50.26548245743669 and circumference of 25.132741228718345\n"
     ]
    }
   ],
   "source": [
    "from math import sqrt, sin, gcd, pi, e, tau\n",
    "print(\"The square root of 8 is\", sqrt(8) )\n",
    "print(\"Sinus to 2 is\", sin(2) )\n",
    "print(\"Biggest common divider for 18 and 12 is\", gcd(18, 12) )\n",
    "print(\"The constant pi and e is accesed in Python giving\", pi, \"and\", e)\n",
    "print(\"It also have the constant tau which equals 2*pi:\", tau)\n",
    "print(\"A circle with radius of 4 has a area of\", pi * 4**2, \"and circumference of\", tau * 4)"
   ]
  },
  {
   "cell_type": "markdown",
   "metadata": {
    "deletable": false,
    "hidden": true,
    "run_control": {
     "frozen": true
    }
   },
   "source": [
    "Another even easeir alternative is to write  **from math import &ast;**  in the first line.\n",
    "The * means \"everything\". This way you do not need to write every singel function or constant like sqrt, sin, ... The downside however is that you will import **everything** from the libary, meaning many functions and constants you arent using will also be imported. This is more of a downside if you are concerned for the speed and size of the program, but to be used in smaller examples like these it's no problem."
   ]
  },
  {
   "cell_type": "markdown",
   "metadata": {
    "deletable": false,
    "run_control": {
     "frozen": true
    }
   },
   "source": [
    "### c) Using built-in functions and constants\n",
    "\n",
    "Fix the code below. Insert a fitting import at the start instead of the # ??\n",
    "\n",
    "Change the values of the **None** with the necessary built-in functions and constants from the standard-libary and math-libary to make it correct.\n",
    "\n",
    "Follow the example of line 3 where its already correct. Find the correct function and insert the correct value into it to get the answer."
   ]
  },
  {
   "cell_type": "code",
   "execution_count": 11,
   "metadata": {},
   "outputs": [
    {
     "name": "stdout",
     "output_type": "stream",
     "text": [
      "The absolute value of |-3|, is None\n",
      "2.544 rounded to a integer is None\n",
      "The function int() only removes the decimals: 2\n",
      "2.544 rounded to two decimals is None\n",
      "The square root of 10 is None\n",
      "A circle with radius 7 has a circumference of None\n",
      "A circle with radius 7 has a area of None\n"
     ]
    }
   ],
   "source": [
    "\n",
    "# ??\n",
    "# importerer fra math-biblioteket\n",
    "  \n",
    "print(\"The absolute value of |-3|, is\", None)\n",
    "print(2.544, \"rounded to a integer is\", None)\n",
    "print(\"The function int() only removes the decimals:\", int(2.544) )\n",
    "print(2.544, \"rounded to two decimals is\", None)\n",
    "print(\"The square root of\", 10, \"is\", None)\n",
    "print(\"A circle with radius 7 has a circumference of\", None)\n",
    "print(\"A circle with radius 7 has a area of\", None)"
   ]
  },
  {
   "cell_type": "markdown",
   "metadata": {
    "deletable": false,
    "run_control": {
     "frozen": true
    }
   },
   "source": [
    "**Utskrift til skjerm**\n",
    "``` \n",
    "The absolute value of |-3|, is 3 \n",
    "2.544 rounded to a integer is 3 \n",
    "The function int() only removes the decimals: 2 \n",
    "2.544 rounded to two decimals is 2.54 \n",
    "The square root of 10 is 3.1622776601683795 \n",
    "A circle with radius 7 has a circumference of 43.982297150257104 \n",
    "A circle with radius 7 has a area of 153.93804002589985\n",
    "```"
   ]
  },
  {
   "cell_type": "code",
   "execution_count": null,
   "metadata": {},
   "outputs": [],
   "source": []
  }
 ],
 "metadata": {
  "kernelspec": {
   "display_name": "Python 3",
   "language": "python",
   "name": "python3"
  },
  "language_info": {
   "codemirror_mode": {
    "name": "ipython",
    "version": 3
   },
   "file_extension": ".py",
   "mimetype": "text/x-python",
   "name": "python",
   "nbconvert_exporter": "python",
   "pygments_lexer": "ipython3",
   "version": "3.7.3"
  },
  "toc": {
   "base_numbering": 1,
   "nav_menu": {},
   "number_sections": false,
   "sideBar": true,
   "skip_h1_title": false,
   "title_cell": "Table of Contents",
   "title_sidebar": "Contents",
   "toc_cell": false,
   "toc_position": {},
   "toc_section_display": true,
   "toc_window_display": false
  }
 },
 "nbformat": 4,
 "nbformat_minor": 4
}
