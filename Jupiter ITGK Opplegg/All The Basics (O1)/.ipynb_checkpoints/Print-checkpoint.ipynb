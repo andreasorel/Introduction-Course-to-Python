{
 "cells": [
  {
   "cell_type": "markdown",
   "metadata": {
    "deletable": false,
    "run_control": {
     "frozen": true
    },
    "solution": "hidden"
   },
   "source": [
    "# Printing messages to screen\n",
    "\n",
    "**What you will learn:**\n",
    "\n",
    "* Print both text and numbers to the consoll\n",
    "\n",
    "* Write a simple program"
   ]
  },
  {
   "cell_type": "markdown",
   "metadata": {
    "deletable": false,
    "heading_collapsed": true,
    "run_control": {
     "frozen": true
    }
   },
   "source": [
    "### print() - Tutorial part 1:"
   ]
  },
  {
   "cell_type": "markdown",
   "metadata": {
    "deletable": false,
    "hidden": true,
    "run_control": {
     "frozen": true
    }
   },
   "source": [
    "In many cases during programing one wishes to show text and numerical data to a screen. To do this easily in Python we will use the print() function.\n",
    "\n",
    "The code bellow is a self explaining text on how the print() function works with both text and numbers.\n",
    "\n",
    "**Reminder:** To run code click the code block and press CTRL + ENTER."
   ]
  },
  {
   "cell_type": "code",
   "execution_count": 5,
   "metadata": {
    "ExecuteTime": {
     "end_time": "2019-06-25T13:22:53.510622Z",
     "start_time": "2019-06-25T13:22:53.493007Z"
    },
    "hidden": true,
    "scrolled": true
   },
   "outputs": [
    {
     "name": "stdout",
     "output_type": "stream",
     "text": [
      "What is intended to be printed to the screen is put in the parentheses after print.\n",
      "Text needs to be surounded by apostrophes\n",
      "or with quotation marks.\n",
      "Numbers do not need apostrophes or quotation marks:\n",
      "24\n",
      "A blank line can be printed with empty parentheses:\n",
      "\n",
      "If you want to print multiple things put a comma between: 5 6\n",
      "Decimal numbers need to writen with a dot in Python: 3.14\n",
      "If you use comma, it will be registered as two different numbers: 3 14\n",
      "A comma inn a text will show to the screen: ,,, comma between texts will not.\n"
     ]
    }
   ],
   "source": [
    "print('What is intended to be printed to the screen is put in the parentheses after print.')\n",
    "print('Text needs to be surounded by apostrophes')\n",
    "print(\"or with quotation marks.\")\n",
    "print(\"Numbers do not need apostrophes or quotation marks:\")\n",
    "print(24)\n",
    "print('A blank line can be printed with empty parentheses:')\n",
    "print()\n",
    "print('If you want to print multiple things', 'put a comma between:', 5, 6)\n",
    "print('Decimal numbers need to writen with a dot in Python:', 3.14)\n",
    "print('If you use comma, it will be registered as two different numbers:', 3,14)\n",
    "print('A comma inn a text will show to the screen: ,,,', 'comma', 'between', 'texts will not.')"
   ]
  },
  {
   "cell_type": "markdown",
   "metadata": {
    "deletable": false,
    "hidden": true
   },
   "source": [
    "As you can see there is two different symbols you can use to suround your text in Python:\n",
    "\n",
    "* A apostophe '\n",
    "* Or a quotation mark \"\n",
    "\n",
    "The reason for both will be explained further down, but in short it's to allow both the use of quotation marks and apostophe in the text you print. But in general it's mostly a prefrence on which you use on the daily.\n",
    "\n",
    "\n",
    "**Warning:** When writing in some text softwares like word or notepad you might get a apostophe or a quotation mark that is \"bent\" and not straight. This will be registered as a different symbol in Python and therfore cause an error. To combat this write your code in a code-editor like Jupyther, Thonny, PyCharm, etc."
   ]
  },
  {
   "cell_type": "markdown",
   "metadata": {
    "deletable": false,
    "run_control": {
     "frozen": true
    },
    "solution": "hidden"
   },
   "source": [
    "### a) Hello World!"
   ]
  },
  {
   "cell_type": "markdown",
   "metadata": {
    "deletable": false,
    "run_control": {
     "frozen": true
    }
   },
   "source": [
    "**Make a program that writes the following to the screen:**\n",
    "\n",
    "    Hello World!"
   ]
  },
  {
   "cell_type": "code",
   "execution_count": null,
   "metadata": {},
   "outputs": [],
   "source": []
  },
  {
   "cell_type": "markdown",
   "metadata": {
    "deletable": false,
    "run_control": {
     "frozen": true
    }
   },
   "source": [
    "### b) Multi-line message"
   ]
  },
  {
   "cell_type": "markdown",
   "metadata": {
    "ExecuteTime": {
     "end_time": "2019-06-25T13:03:36.211485Z",
     "start_time": "2019-06-25T13:03:36.201649Z"
    },
    "deletable": false,
    "run_control": {
     "frozen": true
    }
   },
   "source": [
    "**Make a program with 3 print() lines to write the following to the screen. (Line 2 shall be blank and the number shall be writen as a number and not part of a text string.)**\n",
    "    \n",
    "    Hello World!\n",
    " \n",
    "    My name is Python and I'm 30 years and 6.8 meters long."
   ]
  },
  {
   "cell_type": "code",
   "execution_count": null,
   "metadata": {},
   "outputs": [],
   "source": []
  },
  {
   "cell_type": "markdown",
   "metadata": {
    "deletable": false,
    "heading_collapsed": true,
    "run_control": {
     "frozen": true
    },
    "solution": "hidden"
   },
   "source": [
    "### print() - Tutorial part 2:"
   ]
  },
  {
   "cell_type": "markdown",
   "metadata": {
    "deletable": false,
    "hidden": true,
    "run_control": {
     "frozen": true
    }
   },
   "source": [
    "The code below will demonstrate why you are able to use both apostrophe and quotation marks instead of it being one standard for the use in printing to screen. "
   ]
  },
  {
   "cell_type": "code",
   "execution_count": 6,
   "metadata": {
    "ExecuteTime": {
     "end_time": "2019-06-25T13:37:55.517387Z",
     "start_time": "2019-06-25T13:37:55.490047Z"
    },
    "hidden": true
   },
   "outputs": [
    {
     "name": "stdout",
     "output_type": "stream",
     "text": [
      "Why allow the use of both apostrophe and quotation marks?\n",
      "If you try to have \"quotation marks\" in the text, then apostrophe is the only one that works around the text,\n",
      "and with apostrophes in the text (It's), then it will only for with quotation marks around.\n",
      "If you use the same both at the start and end as well as in the middle Python will think you ended the text in the middle.\n",
      "What if you need both types in the text? Then you use tripple apostrophe around:\n",
      "\"Stopp moving so much!\" Said Python to it's tail.\n",
      "Tripple apostrophe ' and tripple quotation marks \" both work.\n",
      "Tripple quotation marks can also be used\n",
      "for text that\n",
      "will go over multiple lines.\n"
     ]
    }
   ],
   "source": [
    "print('Why allow the use of both apostrophe', \"and quotation marks?\")\n",
    "print('If you try to have \"quotation marks\" in the text, then apostrophe is the only one that works around the text,')\n",
    "print(\"and with apostrophes in the text (It's), then it will only for with quotation marks around.\")\n",
    "print(\"If you use the same both at the start and end as well as in the middle Python will think you ended the text in the middle.\")\n",
    "print(\"What if you need both types in the text? Then you use tripple apostrophe around:\")\n",
    "print('''\"Stopp moving so much!\" Said Python to it's tail.''')\n",
    "print(\"\"\"Tripple apostrophe ' and tripple quotation marks \" both work.\"\"\")\n",
    "print(\"\"\"Tripple quotation marks can also be used\n",
    "for text that\n",
    "will go over multiple lines.\"\"\")"
   ]
  },
  {
   "cell_type": "markdown",
   "metadata": {
    "deletable": false,
    "run_control": {
     "frozen": true
    }
   },
   "source": [
    "### c) Quotation marks and apostrophe in a text"
   ]
  },
  {
   "cell_type": "markdown",
   "metadata": {
    "deletable": false,
    "run_control": {
     "frozen": true
    }
   },
   "source": [
    "**Make a program that writes the following to the screen:**\n",
    "    \n",
    "    \"I'm Python!\" said the exited snake.\n",
    "\n",
    "Quotation marks are meant to be in the printed text."
   ]
  },
  {
   "cell_type": "code",
   "execution_count": null,
   "metadata": {},
   "outputs": [],
   "source": []
  },
  {
   "cell_type": "markdown",
   "metadata": {
    "deletable": false,
    "run_control": {
     "frozen": true
    }
   },
   "source": [
    "### d) Multi-line message with quotation marks and apostophe"
   ]
  },
  {
   "cell_type": "markdown",
   "metadata": {
    "deletable": false,
    "run_control": {
     "frozen": true
    }
   },
   "source": [
    "**Make a program that writes the following to the screen:**\n",
    "\n",
    "Hint: For å slippe å skrive så mye, kopier teksten inn i boksen under, så trenger du bare selv å skrive print, parenteser og passende fnutter rundt teksten."
   ]
  },
  {
   "cell_type": "markdown",
   "metadata": {
    "deletable": false,
    "run_control": {
     "frozen": true
    }
   },
   "source": [
    "\n",
    "    Some kids were playing at a playground.\n",
    "    Their topic somewhat unexpected.\n",
    "\n",
    "    - Why is it called \"Python\"?\n",
    "    - Was it a snake's idea to make it?\n",
    "    - No, but maybe the one who made it liked python snakes? - No again, but he liked \"Monty Python\".\n",
    "    - What's that? A mountain?\n",
    "    - No for a third time, english comedians. They started around '69.\n",
    "    - Wow! Was there still dinosaurs around then?\n",
    "\n"
   ]
  },
  {
   "cell_type": "code",
   "execution_count": null,
   "metadata": {},
   "outputs": [],
   "source": []
  },
  {
   "cell_type": "markdown",
   "metadata": {
    "deletable": false,
    "heading_collapsed": true,
    "run_control": {
     "frozen": true
    }
   },
   "source": [
    "### Comments in Python - Tutorial part 3:"
   ]
  },
  {
   "cell_type": "markdown",
   "metadata": {
    "deletable": false,
    "hidden": true,
    "run_control": {
     "frozen": true
    }
   },
   "source": [
    "Comments are a really valuable tool to any programmer. Comments are mostly used for your own sake as well for anyone that tries to understand your code. A comment will not be registered by the program that is being run, it will instad just skip thouse lines. To write a comment in your code start the line by inserting a hashtag (#). This will make the entier line a comment.\n",
    "\n",
    "**Try to run the code bellow and fix the error.**"
   ]
  },
  {
   "cell_type": "code",
   "execution_count": 11,
   "metadata": {
    "ExecuteTime": {
     "end_time": "2019-06-25T13:30:57.214061Z",
     "start_time": "2019-06-25T13:30:57.200831Z"
    },
    "hidden": true
   },
   "outputs": [],
   "source": [
    "# This is a comment!\n",
    "This is not a comment. Is missing the #.\n",
    "### Is this a comment? YES! It does not matter how many #'s there are as long as the first thing on the line is a #."
   ]
  },
  {
   "cell_type": "code",
   "execution_count": null,
   "metadata": {},
   "outputs": [],
   "source": []
  }
 ],
 "metadata": {
  "kernelspec": {
   "display_name": "Python 3",
   "language": "python",
   "name": "python3"
  },
  "language_info": {
   "codemirror_mode": {
    "name": "ipython",
    "version": 3
   },
   "file_extension": ".py",
   "mimetype": "text/x-python",
   "name": "python",
   "nbconvert_exporter": "python",
   "pygments_lexer": "ipython3",
   "version": "3.7.3"
  },
  "toc": {
   "base_numbering": 1,
   "nav_menu": {},
   "number_sections": false,
   "sideBar": true,
   "skip_h1_title": false,
   "title_cell": "Table of Contents",
   "title_sidebar": "Contents",
   "toc_cell": false,
   "toc_position": {},
   "toc_section_display": true,
   "toc_window_display": false
  }
 },
 "nbformat": 4,
 "nbformat_minor": 4
}
