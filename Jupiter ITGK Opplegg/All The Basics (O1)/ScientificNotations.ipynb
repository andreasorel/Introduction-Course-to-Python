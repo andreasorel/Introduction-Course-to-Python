{
 "cells": [
  {
   "cell_type": "markdown",
   "metadata": {
    "deletable": false,
    "run_control": {
     "frozen": true
    }
   },
   "source": [
    "# Scientific notation\n",
    "\n",
    "**What you will learn:**\n",
    "\n",
    "* Scientific notation for really small or really large float numbers."
   ]
  },
  {
   "cell_type": "markdown",
   "metadata": {
    "deletable": false,
    "run_control": {
     "frozen": true
    }
   },
   "source": [
    "### Formating large and small numbers"
   ]
  },
  {
   "cell_type": "markdown",
   "metadata": {
    "deletable": false,
    "run_control": {
     "frozen": true
    }
   },
   "source": [
    "When writing float numbers in Python, the easiest way to do so is just to plainly write the number, for example 4.73854 or 0.0035. Though if the numbers start to become really large or really small for example (~$10^{12}$) or (~$10^{-8}$), it will start to become really time consuming to write the entire number out. In addition it is easier for mistakes to be made writing long numbers yourself. Since accuaraccy is really important we therfor use scientific notation on large or small numbers.\n",
    "\n",
    "In Python we can write large numbers like 7.2 billion like 7.2 × 10 $^{9}$ and 0.0000000319 3.19 × 10$^{-8}$ using multiplication (`*`) and powers (`**`) like so: `3.0*10**9` and `3.19*10 **(-10)`. This will give the right result but use time everytime it runs to calculate the number thorugh the equation. Instead of this we can use the notation of `e` (which in this case is not related to the constant) to write the numbers like so: `3.0e9` and `3.19e-10`. The `e` in this case is the 10's power. Doing it this way will make the number a constant instead of having to be calculated every time the program runs. This example can be seen in line 3 of the example below:\n",
    "\n",
    "Example of code (**Run it yourself!**)"
   ]
  },
  {
   "cell_type": "code",
   "execution_count": null,
   "metadata": {
    "ExecuteTime": {
     "end_time": "2019-07-01T12:28:51.461020Z",
     "start_time": "2019-07-01T12:28:46.220125Z"
    }
   },
   "outputs": [],
   "source": [
    "time = float(input(\"How fast is your 60m? \"))\n",
    "m_sec = 60/time\n",
    "lightspeed = 3.0e8\n",
    "x = lightspeed / m_sec\n",
    "print(\"Good! But to match the speed of light...\")\n",
    "print(\"...you will need to run\", x, \"times faster\")\n",
    "print(\"which also can be writen as\", format(x, '.1e'), \"times faster.\")"
   ]
  },
  {
   "cell_type": "markdown",
   "metadata": {
    "deletable": false,
    "run_control": {
     "frozen": true
    }
   },
   "source": [
    "`.1e` in the format it shows the user wants 1 decimal in the scientific notation. `.2e` Would have given 2 decimals instead."
   ]
  },
  {
   "cell_type": "markdown",
   "metadata": {
    "deletable": false,
    "run_control": {
     "frozen": true
    }
   },
   "source": [
    "## a) Physics / Chemistry"
   ]
  },
  {
   "cell_type": "markdown",
   "metadata": {
    "deletable": false
   },
   "source": [
    "Avogadro's constant 6.022 × 10<sup>23</sup> tells how many molecules of a substance there are in one mol of that substance. Male a program that asks the user to name a substance they have, how much it weights, what it's molar weight is and finally calculate and print how many mol's of it the user has. Try to use the `format()`-function to avoid too many deciamls in the answer. \n",
    "\n",
    "Example of correct running code:\n",
    "\n",
    "  \n",
    "```python\n",
    "What sort of substance do you have: Water / H20\n",
    "How many grams of the substance do you have? 500\n",
    "What is the molar weight in grams of that substance? 18\n",
    "You have 1.7e+25 molecules of Water / H20\n",
    "```\n",
    "\n",
    "***Write your code in the block below.***"
   ]
  },
  {
   "cell_type": "code",
   "execution_count": null,
   "metadata": {},
   "outputs": [],
   "source": []
  },
  {
   "cell_type": "markdown",
   "metadata": {
    "deletable": false,
    "editable": false,
    "run_control": {
     "frozen": true
    }
   },
   "source": [
    "#### Hint"
   ]
  },
  {
   "cell_type": "markdown",
   "metadata": {
    "deletable": false,
    "run_control": {
     "frozen": true
    }
   },
   "source": [
    "Hint: Calculate the total mol by taking the amount of grams the user inputs and divide it by the molar weight. Thereafter multiply the number with Avogadro's constant."
   ]
  }
 ],
 "metadata": {
  "kernelspec": {
   "display_name": "Python 3",
   "language": "python",
   "name": "python3"
  },
  "language_info": {
   "codemirror_mode": {
    "name": "ipython",
    "version": 3
   },
   "file_extension": ".py",
   "mimetype": "text/x-python",
   "name": "python",
   "nbconvert_exporter": "python",
   "pygments_lexer": "ipython3",
   "version": "3.7.3"
  },
  "toc": {
   "base_numbering": 1,
   "nav_menu": {},
   "number_sections": false,
   "sideBar": true,
   "skip_h1_title": false,
   "title_cell": "Table of Contents",
   "title_sidebar": "Contents",
   "toc_cell": false,
   "toc_position": {},
   "toc_section_display": true,
   "toc_window_display": false
  }
 },
 "nbformat": 4,
 "nbformat_minor": 4
}
