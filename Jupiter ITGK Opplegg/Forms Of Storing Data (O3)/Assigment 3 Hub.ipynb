{
 "cells": [
  {
   "cell_type": "markdown",
   "metadata": {},
   "source": [
    "# Assigment 3\n",
    "In this assigment you will learn more about datastoring in different kinds of ways. Their pros and cons and what they are used for.\n",
    "\n",
    "## Goals 🏆\n",
    "* Learn about Lists\n",
    "* Learn about Sets\n",
    "* Learn about Dictionaries\n",
    "* Learn about Tuples\n",
    "\n",
    "---\n",
    "# Assignments\n",
    "\n",
    "Assignment | Module\n",
    "--- | --- \n",
    "[Introduction to Lists](Lists.ipynb) | Jupyter notebooks\n",
    "[Introduction to Sets](Sets.ipynb) | Jupyter notebooks\n",
    "[Introduction to Tuples](Tuples.ipynb) | Jupyter notebooks\n",
    "[Introduction to Dictionaries](Dictionaries.ipynb) | Jupyter notebooks\n",
    "[Introduction to Lists and Loops](ListsAndLoops.ipynb) | Jupyter notebooks"
   ]
  },
  {
   "cell_type": "code",
   "execution_count": null,
   "metadata": {},
   "outputs": [],
   "source": []
  }
 ],
 "metadata": {
  "kernelspec": {
   "display_name": "Quanted",
   "language": "python",
   "name": "quanted"
  },
  "language_info": {
   "codemirror_mode": {
    "name": "ipython",
    "version": 3
   },
   "file_extension": ".py",
   "mimetype": "text/x-python",
   "name": "python",
   "nbconvert_exporter": "python",
   "pygments_lexer": "ipython3",
   "version": "3.6.11"
  },
  "widgets": {
   "application/vnd.jupyter.widget-state+json": {
    "state": {},
    "version_major": 2,
    "version_minor": 0
   }
  }
 },
 "nbformat": 4,
 "nbformat_minor": 4
}
