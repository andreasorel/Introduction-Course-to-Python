{
 "cells": [
  {
   "cell_type": "markdown",
   "metadata": {},
   "source": [
    "# Dictionaries\n",
    "\n",
    "A dictionary is a collection which is unordered, changeable and indexed. \n",
    "\n",
    "To write a dictionary in Python we use curlybrackets, a key and a value. To access the value we have two methods:\n",
    "\n",
    "- We index using the key, like so **dict[\"key\"]**\n",
    "- We use the .get() method, like so **dict.get(\"key\")**"
   ]
  },
  {
   "cell_type": "code",
   "execution_count": 17,
   "metadata": {},
   "outputs": [
    {
     "name": "stdout",
     "output_type": "stream",
     "text": [
      "{'Name': 'Quanted', 'Age': 1234, 'Programming': True}\n",
      "1234\n",
      "{'Name': 'Quanted', 'Age': 1234, 'Programming': False}\n"
     ]
    }
   ],
   "source": [
    "my_dict = {\n",
    "    \"Name\" : \"Quanted\",\n",
    "    \"Age\" : 1234,\n",
    "    \"Programming\" : False\n",
    "}\n",
    "\n",
    "print(my_dict)\n",
    "print(my_dict.get(\"Age\"))\n",
    "\n",
    "my_dict[\"Programming\"] = True\n",
    "\n",
    "print(my_dict)"
   ]
  },
  {
   "cell_type": "markdown",
   "metadata": {},
   "source": [
    "## Make you own checklist!\n",
    "\n",
    "Make a simple checklist.\n",
    "\n",
    "- The key is a String with the task to do.\n",
    "- The value the the boolean value of True of False to indicate if the task is done or not.\n",
    "- Write a loop counting how many task that are completed."
   ]
  },
  {
   "cell_type": "code",
   "execution_count": null,
   "metadata": {},
   "outputs": [],
   "source": [
    "# Write your code here!"
   ]
  }
 ],
 "metadata": {
  "kernelspec": {
   "display_name": "Python 3",
   "language": "python",
   "name": "python3"
  },
  "language_info": {
   "codemirror_mode": {
    "name": "ipython",
    "version": 3
   },
   "file_extension": ".py",
   "mimetype": "text/x-python",
   "name": "python",
   "nbconvert_exporter": "python",
   "pygments_lexer": "ipython3",
   "version": "3.7.3"
  }
 },
 "nbformat": 4,
 "nbformat_minor": 4
}
