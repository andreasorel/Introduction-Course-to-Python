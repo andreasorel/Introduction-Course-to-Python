{
 "cells": [
  {
   "cell_type": "markdown",
   "metadata": {},
   "source": [
    "# Sets\n",
    "\n",
    "Sets are unlike a list and tuple not ordered or indexed. It also only contain each element once. Once we add an item we can't change it, only remove it and add another. If we want to check out each element by itself, we have to loop through the set.\n",
    "\n",
    "In Python we declare them with curly brackets.\n",
    "\n",
    "### Add\n",
    "To add an element to the set we simply use the **.add()** method, like a list.\n",
    "\n",
    "### Update\n",
    "With update, we can add a set to another set. If you have to sets, set1 and set2, you could add set2 to set1 like this: **set1.update(set2)**.\n",
    "\n",
    "### Remove\n",
    "If we want to remove a element, we use **.remove()**."
   ]
  },
  {
   "cell_type": "code",
   "execution_count": 14,
   "metadata": {},
   "outputs": [
    {
     "name": "stdout",
     "output_type": "stream",
     "text": [
      "{2456, 'Quanted', True}\n",
      "{2456, True, False}\n",
      "{False, True, 1234, 2456, 'String'}\n"
     ]
    }
   ],
   "source": [
    "my_set = {\"Quanted\", 2456, True}\n",
    "print(my_set)\n",
    "\n",
    "my_set.add(False)\n",
    "my_set.remove(\"Quanted\")\n",
    "print(my_set)\n",
    "\n",
    "new_set = {True, \"String\", 1234}\n",
    "my_set.update(new_set)\n",
    "print(my_set) # Notice how True is still only once in the set."
   ]
  },
  {
   "cell_type": "markdown",
   "metadata": {},
   "source": [
    "## Make your own wishlist!\n",
    "\n",
    "Try to make your own wishlist using a set. The set makes sure you won't wish for the same thing twice!"
   ]
  },
  {
   "cell_type": "code",
   "execution_count": null,
   "metadata": {},
   "outputs": [],
   "source": [
    "# Write you code here!"
   ]
  }
 ],
 "metadata": {
  "kernelspec": {
   "display_name": "Python 3",
   "language": "python",
   "name": "python3"
  },
  "language_info": {
   "codemirror_mode": {
    "name": "ipython",
    "version": 3
   },
   "file_extension": ".py",
   "mimetype": "text/x-python",
   "name": "python",
   "nbconvert_exporter": "python",
   "pygments_lexer": "ipython3",
   "version": "3.7.3"
  }
 },
 "nbformat": 4,
 "nbformat_minor": 4
}
