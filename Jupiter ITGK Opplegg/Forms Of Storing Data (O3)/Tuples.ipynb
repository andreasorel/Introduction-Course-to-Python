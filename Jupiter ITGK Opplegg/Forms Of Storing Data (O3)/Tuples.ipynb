{
 "cells": [
  {
   "cell_type": "markdown",
   "metadata": {},
   "source": [
    "# Tuples\n",
    "\n",
    "Tuples is quite like a list but with the attribute that you can't change it.\n",
    "\n",
    "- You can't add elements to a tuple. Tuples have no append or extend method.\n",
    "- You can't remove elements from a tuple. Tuples have no remove or pop method.\n",
    "- You can find elements in a tuple, since this doesn’t change the tuple.\n",
    "- You can also use the in operator to check if an element exists in the tuple.\n",
    "\n",
    "You declare it with parentheses and not brackets."
   ]
  },
  {
   "cell_type": "code",
   "execution_count": 3,
   "metadata": {},
   "outputs": [
    {
     "name": "stdout",
     "output_type": "stream",
     "text": [
      "('Quanted', 2456, True)\n",
      "2456\n",
      "<class 'str'>\n",
      "<class 'int'>\n",
      "<class 'bool'>\n"
     ]
    }
   ],
   "source": [
    "my_tuple = (\"Quanted\", 2456, True)\n",
    "\n",
    "print(my_tuple)\n",
    "print(my_tuple[1])\n",
    "\n",
    "for item in my_tuple:\n",
    "    print(type(item))"
   ]
  },
  {
   "cell_type": "markdown",
   "metadata": {},
   "source": [
    "## Make your own wishlist!\n",
    "\n",
    "Try to make your own wishlist using a tuple. The tuple woun't be editable so make sure to think hard what you want in it!"
   ]
  },
  {
   "cell_type": "code",
   "execution_count": null,
   "metadata": {},
   "outputs": [],
   "source": [
    "# Write you code here!"
   ]
  }
 ],
 "metadata": {
  "kernelspec": {
   "display_name": "Python 3",
   "language": "python",
   "name": "python3"
  },
  "language_info": {
   "codemirror_mode": {
    "name": "ipython",
    "version": 3
   },
   "file_extension": ".py",
   "mimetype": "text/x-python",
   "name": "python",
   "nbconvert_exporter": "python",
   "pygments_lexer": "ipython3",
   "version": "3.7.3"
  }
 },
 "nbformat": 4,
 "nbformat_minor": 4
}
