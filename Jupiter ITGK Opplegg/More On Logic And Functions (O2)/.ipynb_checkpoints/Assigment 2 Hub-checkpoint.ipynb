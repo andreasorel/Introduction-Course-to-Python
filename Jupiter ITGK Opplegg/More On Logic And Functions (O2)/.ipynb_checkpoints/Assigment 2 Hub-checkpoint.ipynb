{
 "cells": [
  {
   "cell_type": "markdown",
   "metadata": {},
   "source": [
    "# Assigment 2\n",
    "In this assigment you will learn more about how to code logic and loops to make your code both smarter and faster!\n",
    "\n",
    "## Goals 🏆\n",
    "* Learn If-elif-else-sentances\n",
    "* Learn For and While -loops\n",
    "* Learn about loops in loops\n",
    "* Use logical operators.\n",
    "* Variables both local and global\n",
    "* Built in functions\n",
    "\n",
    "\n",
    "---\n",
    "# Assignments\n",
    "\n",
    "Assignment | Module\n",
    "--- | --- \n",
    "[Introduction to Print](Print.ipynb) | Jupyter notebooks\n",
    "[Introduction to Datatypes](Datatypes.ipynb) | Jupyter notebooks\n",
    "[Introduction to Operations and Liberies](Operations.ipynb) | Jupyter notebooks\n",
    "[Introduction to Logical Operators](LogicalOperators.ipynb) | Jupyter notebooks\n",
    "[Introduction to Scientific Notation](ScientificNotations.ipynb) | Jupyter notebooks\n",
    "[Introduction to Functions](Functions.ipynb) | Jupyter notebooks"
   ]
  },
  {
   "cell_type": "code",
   "execution_count": null,
   "metadata": {},
   "outputs": [],
   "source": []
  }
 ],
 "metadata": {
  "kernelspec": {
   "display_name": "Quanted",
   "language": "python",
   "name": "quanted"
  },
  "language_info": {
   "codemirror_mode": {
    "name": "ipython",
    "version": 3
   },
   "file_extension": ".py",
   "mimetype": "text/x-python",
   "name": "python",
   "nbconvert_exporter": "python",
   "pygments_lexer": "ipython3",
   "version": "3.6.11"
  },
  "widgets": {
   "application/vnd.jupyter.widget-state+json": {
    "state": {},
    "version_major": 2,
    "version_minor": 0
   }
  }
 },
 "nbformat": 4,
 "nbformat_minor": 4
}
