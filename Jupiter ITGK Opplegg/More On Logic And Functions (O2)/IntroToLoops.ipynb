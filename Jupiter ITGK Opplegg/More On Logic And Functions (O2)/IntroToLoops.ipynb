{
 "cells": [
  {
   "cell_type": "markdown",
   "metadata": {
    "deletable": false,
    "run_control": {
     "frozen": true
    }
   },
   "source": [
    "# For and while loops\n",
    "\n",
    "**What you will learn:**\n",
    "\n",
    "* Loops\n",
    "* For loops and while loops as well as when to use either.\n",
    "\n",
    "In this task you will learn more about loops and their uses."
   ]
  },
  {
   "cell_type": "markdown",
   "metadata": {
    "deletable": false,
    "heading_collapsed": true,
    "run_control": {
     "frozen": true
    }
   },
   "source": [
    "### Intro to loops"
   ]
  },
  {
   "cell_type": "markdown",
   "metadata": {
    "deletable": false,
    "hidden": true,
    "run_control": {
     "frozen": true
    }
   },
   "source": [
    "Something computers are really great at doing is doing a singe task multiple times really quickly. What we call these repeted behaviour is loops.\n",
    "In the example below we have 3 prints that does the same followed by a single different print. Earlier we learned that we could make a function to make this more managle, but we can also use loops."
   ]
  },
  {
   "cell_type": "code",
   "execution_count": 2,
   "metadata": {
    "hidden": true
   },
   "outputs": [
    {
     "name": "stdout",
     "output_type": "stream",
     "text": [
      "I\n",
      "Love\n",
      "Love\n",
      "Love\n",
      "You\n"
     ]
    }
   ],
   "source": [
    "print(\"I\")\n",
    "print(\"Love\")\n",
    "print(\"Love\")\n",
    "print(\"Love\")\n",
    "print(\"You\")"
   ]
  },
  {
   "cell_type": "markdown",
   "metadata": {
    "deletable": false,
    "hidden": true,
    "run_control": {
     "frozen": true
    }
   },
   "source": [
    "Shown below is a example of how to make this into a loop instead."
   ]
  },
  {
   "cell_type": "code",
   "execution_count": 4,
   "metadata": {
    "hidden": true
   },
   "outputs": [
    {
     "name": "stdout",
     "output_type": "stream",
     "text": [
      "I\n",
      "Love\n",
      "Love\n",
      "Love\n",
      "You\n"
     ]
    }
   ],
   "source": [
    "print(\"I\")\n",
    "for i in range(3):\n",
    "    print(\"Love\")\n",
    "print(\"You\")"
   ]
  },
  {
   "cell_type": "markdown",
   "metadata": {
    "deletable": false,
    "hidden": true,
    "run_control": {
     "frozen": true
    }
   },
   "source": [
    "**for &lt;variable&gt; in range(3)**: makes that the code followed by the indentation will be repeated 3 times.\n",
    "\n",
    "The other two print statments are not in the for-loop meaning they will not be reapeated 3 times like the \"Love\" one.\n",
    "\n",
    "This is only 1 type of the 2 loop types. We have the for-loop shown above, but we also have a while-loop shown below. Translating the above code from for to while would look like this:"
   ]
  },
  {
   "cell_type": "code",
   "execution_count": null,
   "metadata": {
    "hidden": true
   },
   "outputs": [],
   "source": [
    "i = 0\n",
    "print(\"I\")\n",
    "while i < 3:\n",
    "    print(\"Love\")\n",
    "    i = i + 1  # or: i += 1\n",
    "print(\"You\")"
   ]
  },
  {
   "cell_type": "markdown",
   "metadata": {
    "hidden": true,
    "run_control": {
     "frozen": true
    }
   },
   "source": [
    "The example with the while-loop looks a bit more complicated but both have their uses.\n",
    "\n",
    "In short for-loops are used for a set amount of times while while-loops are running as long as a statment is true. \n",
    "\n",
    "* **for-loops** are primarily used when you know how many times you want a piece of code to be run. Say if you want it run a piece of code that pays the salary for employees. They then just run the loop equal to how many people are in the job. (Simplified but you get the idea).\n",
    "* **while-loops** on the other hand are nice to use when the max number of times looped is a bit unknown. Its more when you want to end the loop you decide to end it with a ending statment (which we will learn a bit later). They decide at some point they want to quit the loop and stop the while loop.\n",
    "\n",
    "Down below are extenion to the \"I love you\" code to further explain. "
   ]
  },
  {
   "cell_type": "code",
   "execution_count": null,
   "metadata": {
    "hidden": true
   },
   "outputs": [],
   "source": [
    "# If user decides how many times it will be run:\n",
    "count = int(input(\"How much love?\" ))\n",
    "print(\"I\")\n",
    "for i in range(count):\n",
    "    print(\"Love\")\n",
    "print(\"You\")\n",
    " \n",
    "# If user is going to decide when to stop themselves:\n",
    "print(\"Type enter after 'I' to add more Love,\")\n",
    "print(\"or space then enter to end it: \")\n",
    "print(\"I\")\n",
    "while input(\"Love\") == \"\":\n",
    "    pass\n",
    "print(\"You\")"
   ]
  },
  {
   "cell_type": "markdown",
   "metadata": {
    "hidden": true,
    "run_control": {
     "frozen": true
    }
   },
   "source": [
    "First part shows a example of for-loop where the user decides the amount of times it will be repeated.\n",
    "In the secound part the while-loop continues until the user decides to break out of the while loop."
   ]
  },
  {
   "cell_type": "markdown",
   "metadata": {
    "deletable": false,
    "editable": false,
    "run_control": {
     "frozen": true
    }
   },
   "source": [
    "## a)"
   ]
  },
  {
   "cell_type": "markdown",
   "metadata": {
    "run_control": {
     "frozen": true
    }
   },
   "source": [
    "The code below shows a for-loop that repeats 3 times. The user is tasked to describe themselves with 1 word that many times and tehy get a response based on what they wrote.\n",
    "\n",
    "***Run the code to see how it works. Then change it so the user can decide at the start how many times they want to describe themselves.***\n",
    "\n",
    "Eksempel på kjøring:\n",
    "\n",
    "```python  \n",
    "How many times do you want to describe yourself? 2\n",
    "Describe yourself with one word? nice\n",
    "Ah, you are nice? I am nice too.\n",
    "Describe yourself with one word? ond\n",
    "Ah, you are smart? I am smart too.\n",
    "Thanks for using our program!\n",
    "```"
   ]
  },
  {
   "cell_type": "code",
   "execution_count": null,
   "metadata": {
    "ExecuteTime": {
     "end_time": "2019-07-02T12:12:32.923751Z",
     "start_time": "2019-07-02T12:12:22.141490Z"
    }
   },
   "outputs": [],
   "source": [
    "#Change the code\n",
    "\n",
    "for i in range(3):\n",
    "    describer = input(\"Describe yourself with one word? \")\n",
    "    print(\"Ah, you are\", describer + \"? I am\", describer + \"too.\")\n",
    "print(\"Thanks for using our program!\")"
   ]
  },
  {
   "cell_type": "markdown",
   "metadata": {
    "heading_collapsed": true,
    "run_control": {
     "frozen": true
    }
   },
   "source": [
    "#### Hint"
   ]
  },
  {
   "cell_type": "markdown",
   "metadata": {
    "hidden": true,
    "run_control": {
     "frozen": true
    }
   },
   "source": [
    "Instead of 3 in the range(3) it should have a variable the user asignes a integer too."
   ]
  },
  {
   "cell_type": "markdown",
   "metadata": {
    "run_control": {
     "frozen": true
    }
   },
   "source": [
    "## b)"
   ]
  },
  {
   "cell_type": "markdown",
   "metadata": {
    "run_control": {
     "frozen": true
    }
   },
   "source": [
    "The code below shows almost the same code but with the use of a while loop. Similar to the last task you will need to change it so that the user can decide how many times they want to reapeat the program.\n",
    "**Change the program so the user can at any point press enter with a empty statment to make the program end**\n",
    "\n",
    "Eksempel på kjøring:\n",
    "\n",
    "```python\n",
    "Press enter without any words or letters when you want to stop.\n",
    "Describe yourself with one word? nice\n",
    "Ah, you are nice? I am nice too.\n",
    "Describe yourself with one word? ond\n",
    "Ah, you are smart? I am smart too.\n",
    "Describe yourself with one word?\n",
    "Thanks for using our program!\n",
    "```\n",
    "\n",
    "The last time the program asks the input is empty and ends it."
   ]
  },
  {
   "cell_type": "code",
   "execution_count": null,
   "metadata": {},
   "outputs": [],
   "source": [
    "i = 0\n",
    "while i < 3:\n",
    "    describer = input(\"Describe yourself with one word? \")\n",
    "    print(\"Ah, you are\", describer + \"? I am\", describer + \"too.\")\n",
    "    i += 1  # Increases by 1\n",
    "print(\"Thanks for using our program!\")"
   ]
  },
  {
   "cell_type": "markdown",
   "metadata": {
    "heading_collapsed": true,
    "run_control": {
     "frozen": true
    }
   },
   "source": [
    "#### Hint"
   ]
  },
  {
   "cell_type": "markdown",
   "metadata": {
    "hidden": true,
    "run_control": {
     "frozen": true
    }
   },
   "source": [
    "In this example we needed to sett i = 0 before we could start the test of i < 3, because if we had nothing to compare it too it could never start running. In the same vain if you try to test for desriber != \"\" then it needs a value before the test happens. So the first input needs to happen outside of the while-loop or else the while loop can't be run.\n",
    "\n",
    "Because of this it will make sense to change the order of the print-sentances and inputs in the while loop so it looks as its supossed to."
   ]
  },
  {
   "cell_type": "markdown",
   "metadata": {
    "heading_collapsed": true,
    "run_control": {
     "frozen": true
    }
   },
   "source": [
    "#### Intro to for-loop with range()"
   ]
  },
  {
   "cell_type": "markdown",
   "metadata": {
    "hidden": true,
    "run_control": {
     "frozen": true
    }
   },
   "source": [
    "Like described above, a for-loop will repeat as many times as the range dictates."
   ]
  },
  {
   "cell_type": "code",
   "execution_count": null,
   "metadata": {
    "hidden": true
   },
   "outputs": [],
   "source": [
    "for i in range(3):\n",
    "    describer = input(\"Describe yourself with one word? \")\n",
    "    print(\"Ah, you are\", describer + \"? I am\", describer + \"too.\")\n",
    "print(\"Thanks for using our program!\")"
   ]
  },
  {
   "cell_type": "markdown",
   "metadata": {
    "hidden": true,
    "run_control": {
     "frozen": true
    }
   },
   "source": [
    "This again will repeat 3 times. You, like in the tasks, can change the 3 for a variable to make it user dependant how many times it is to be run.\n",
    "\n",
    "I task (a) the loop-variable i was not used for anything inn the loop itself, but in this we will show a bit more what it can be used for. \n",
    "\n",
    "\n",
    "More uses of the range are as follows:\n",
    "\n",
    "* If we give only **1 number** to range(), it will be used as the end value. Start value are default to 0. End value does not count itself as a part of it however, it is to the end value not to and with. Example:\n",
    " * range(3) gives the nubmers 0, 1, 2. Loop runs 3 times with start of i=0, so i=1 and ends with i=2.\n",
    " * range(5) gives 0, 1, 2, 3, 4\n",
    " * range(0) gives a empty numbersequense because start and end is both the same. Same would be with negative numbers as the end value is already passed.\n",
    "* If you enter in **2 numbers** to range(), this will be used as start and end values. (From and until but not with). Example:\n",
    " * range(1, 7) gives 1, 2, 3, 4, 5, 6\n",
    " * range(-3, 4) gives -3, -2, -1, 0, 1, 2, 3\n",
    " * range(4, 3) gives a empty sequense as the start is after the end.\n",
    "* Lastly if you give 3 numbers in to range(), the first two are the start and end values while the thirds is the number to incereas by each time. Default increase value is +1, so its only needed to write if you want the numbers to increase with more than +1 at a time. Example:\n",
    " * range(1, 10, 2) gives 1, 3, 5, 7, 9\n",
    " * range(3, 11, 4) gives 3, 7 (but not 11 because that is the end value and you dont include it.\n",
    " * range(11, 3, -2) gives 11,  9,  7,  5 - so it does indeed work to use negative increasing numbers, which also makes you able to have a start value that is bigger than the end value.\n"
   ]
  },
  {
   "cell_type": "code",
   "execution_count": null,
   "metadata": {
    "hidden": true
   },
   "outputs": [],
   "source": [
    "for i in range(7, 14, 3):\n",
    "    describer = input(\"Describe yourself with one word? \")\n",
    "    print(\"Ah, you are\", describer + \"? I am\", describer + \"too.\")\n",
    "print(\"Thanks for using our program!\")"
   ]
  },
  {
   "cell_type": "markdown",
   "metadata": {
    "hidden": true,
    "run_control": {
     "frozen": true
    }
   },
   "source": [
    "This is just a \"silly\" way to show how using 3 numbers work in our example."
   ]
  },
  {
   "cell_type": "markdown",
   "metadata": {
    "hidden": true,
    "run_control": {
     "frozen": true
    }
   },
   "source": [
    "Another example: **Run the code**"
   ]
  },
  {
   "cell_type": "code",
   "execution_count": null,
   "metadata": {
    "hidden": true
   },
   "outputs": [],
   "source": [
    "number = int(input(\"Which number to you want to see the multiplication table for? \"))\n",
    "print(str(number)+\"'s multiplications goes like this':\")\n",
    "  \n",
    "for i in range(1, 11):\n",
    "    print(i * number, end = \"  \")\n",
    "  \n",
    "print(\"Thanks for using our program!\")"
   ]
  },
  {
   "cell_type": "markdown",
   "metadata": {
    "hidden": true,
    "run_control": {
     "frozen": true
    }
   },
   "source": [
    "end = \"  \" in the print makes it so that it does not end with a linebreak but with a spaces tab."
   ]
  },
  {
   "cell_type": "markdown",
   "metadata": {
    "run_control": {
     "frozen": true
    }
   },
   "source": [
    "## d)"
   ]
  },
  {
   "cell_type": "markdown",
   "metadata": {
    "run_control": {
     "frozen": true
    }
   },
   "source": [
    "The code below for the first two for-loops are correct and give the correct prints for the text.\n",
    "The three last ones however are not. Change out range(0) for these three (marked with ###) so that all the for-loops are doing what the text says it should do.\n",
    "\n",
    "**Task on range()**"
   ]
  },
  {
   "cell_type": "code",
   "execution_count": null,
   "metadata": {},
   "outputs": [],
   "source": [
    "print(\"Odd numbers from 1 until 20:\")\n",
    "for number in range(1, 20, 2):\n",
    "    print(number, end = \" \")\n",
    "print()\n",
    "  \n",
    "print(\"Numbers that are multiples of 3 between 12 and 25:\")\n",
    "for number in range(12, 25, 3):\n",
    "    print(number, end = \" \")\n",
    "print()\n",
    "  \n",
    "print(\"Numbers that are multiples of 5 between 20 and 81:\")\n",
    "for number in range(0): ###\n",
    "    print(number, end = \" \")\n",
    "print()\n",
    "  \n",
    "print(\"The number sequence 48, 56, 64, 72, 80\")\n",
    "for number in range(0): ###\n",
    "    print(number, end = \" \")\n",
    "print()\n",
    "  \n",
    "print(\"The nubmers backwards from 100 to 80 with invervall of -3, so 100, 97, ...:\")\n",
    "for number in range(0): ###\n",
    "    print(number, end = \" \")\n",
    "print()"
   ]
  },
  {
   "cell_type": "markdown",
   "metadata": {
    "deletable": false,
    "heading_collapsed": true,
    "run_control": {
     "frozen": true
    }
   },
   "source": [
    "## Infinite while-loop"
   ]
  },
  {
   "cell_type": "markdown",
   "metadata": {
    "hidden": true,
    "run_control": {
     "frozen": true
    }
   },
   "source": [
    "If a while loop is not stopped it would run infinetly. Example of this could be **while true**:, then the statment would always be true and it would never stop. The loop below will print \"I love coding!\" infinetly unless some sort of break system was implemented.\n",
    "\n",
    "A example of how to stop in Jupyter is to press Ctrl-C or close the window that is running it. Before you try just make sure everything is saved just in case!"
   ]
  },
  {
   "cell_type": "code",
   "execution_count": null,
   "metadata": {
    "ExecuteTime": {
     "end_time": "2019-07-02T12:45:50.310736Z",
     "start_time": "2019-07-02T12:40:47.558Z"
    },
    "hidden": true
   },
   "outputs": [],
   "source": [
    "while True:\n",
    "    print(\"I love coding!\")"
   ]
  }
 ],
 "metadata": {
  "kernelspec": {
   "display_name": "Python 3",
   "language": "python",
   "name": "python3"
  },
  "language_info": {
   "codemirror_mode": {
    "name": "ipython",
    "version": 3
   },
   "file_extension": ".py",
   "mimetype": "text/x-python",
   "name": "python",
   "nbconvert_exporter": "python",
   "pygments_lexer": "ipython3",
   "version": "3.7.3"
  },
  "toc": {
   "base_numbering": 1,
   "nav_menu": {},
   "number_sections": false,
   "sideBar": true,
   "skip_h1_title": false,
   "title_cell": "Table of Contents",
   "title_sidebar": "Contents",
   "toc_cell": false,
   "toc_position": {},
   "toc_section_display": true,
   "toc_window_display": false
  }
 },
 "nbformat": 4,
 "nbformat_minor": 4
}
