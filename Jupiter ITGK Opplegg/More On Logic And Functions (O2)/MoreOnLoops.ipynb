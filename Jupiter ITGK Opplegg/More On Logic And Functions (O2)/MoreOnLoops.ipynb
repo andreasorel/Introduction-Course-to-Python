{
 "cells": [
  {
   "cell_type": "markdown",
   "metadata": {
    "run_control": {
     "frozen": true
    }
   },
   "source": [
    "# More on loops - collection loops\n",
    "\n",
    "**What you will learn:**\n",
    "\n",
    "* More about loops"
   ]
  },
  {
   "cell_type": "markdown",
   "metadata": {
    "heading_collapsed": true,
    "run_control": {
     "frozen": true
    }
   },
   "source": [
    "### Tutorial on collection loops"
   ]
  },
  {
   "cell_type": "markdown",
   "metadata": {
    "hidden": true,
    "run_control": {
     "frozen": true
    }
   },
   "source": [
    "Often a loop is used to tally up a result from many number values. One example of a collection loop would be all numbers from 1 to 100."
   ]
  },
  {
   "cell_type": "code",
   "execution_count": 1,
   "metadata": {
    "hidden": true
   },
   "outputs": [
    {
     "name": "stdout",
     "output_type": "stream",
     "text": [
      "The sum of the numbers 1-100: 5050\n"
     ]
    }
   ],
   "source": [
    "total = 0\n",
    "for i in range(1, 101):\n",
    "    total += i          # total = total + i\n",
    "print(\"The sum of the numbers 1-100:\", total)"
   ]
  },
  {
   "cell_type": "markdown",
   "metadata": {
    "hidden": true,
    "run_control": {
     "frozen": true
    }
   },
   "source": [
    "Take note that the variable total is defined before the loop. This is because if we defined it inside the loop it would be reset every time the loops runs. \n",
    "The way this program works is that you define the toatl = 0 at the start. Then you loop thorugh the for-loop 100 times, adding the number of the loop every time it runs to the already defined total. Then at the end returns and prints the entire total.\n",
    "\n",
    "Same is with the multiplication of all the numbers from 1 to 20."
   ]
  },
  {
   "cell_type": "code",
   "execution_count": 2,
   "metadata": {
    "hidden": true
   },
   "outputs": [
    {
     "name": "stdout",
     "output_type": "stream",
     "text": [
      "The total of the multiplication of all numbers in 1-20: 121645100408832000\n"
     ]
    }
   ],
   "source": [
    "total = 1\n",
    "for i in range(1, 20):\n",
    "    total *= i          # total = total * i\n",
    "print(\"The total of the multiplication of all numbers in 1-20:\", total)"
   ]
  },
  {
   "cell_type": "markdown",
   "metadata": {
    "hidden": true,
    "run_control": {
     "frozen": true
    }
   },
   "source": [
    "Lastly a litle example where a while loop could be better than a for loop."
   ]
  },
  {
   "cell_type": "code",
   "execution_count": 3,
   "metadata": {
    "hidden": true
   },
   "outputs": [
    {
     "name": "stdout",
     "output_type": "stream",
     "text": [
      "Write in one and one positive integers.\n",
      "To end write in a negative integer (This will not be counted).\n"
     ]
    },
    {
     "name": "stdin",
     "output_type": "stream",
     "text": [
      "Number:  1\n",
      "Number:  2\n",
      "Number:  3\n",
      "Number:  -1\n"
     ]
    },
    {
     "name": "stdout",
     "output_type": "stream",
     "text": [
      "You wrote in a total of 3 numbers.\n",
      "The biggest one was 3\n"
     ]
    }
   ],
   "source": [
    "print(\"Write in one and one positive integers.\")\n",
    "print(\"To end write in a negative integer (This will not be counted).\")\n",
    "number = int(input(\"Number: \"))\n",
    "biggest = number  # first number is biggest until something bigger has been writen.\n",
    "total = 0\n",
    "  \n",
    "while number >= 0:\n",
    "    if number > biggest:\n",
    "        biggest = number\n",
    "    total += 1\n",
    "    number = int(input(\"Number: \"))\n",
    "  \n",
    "print(\"You wrote in a total of\", total, \"numbers.\")\n",
    "print(\"The biggest one was\", biggest)"
   ]
  },
  {
   "cell_type": "markdown",
   "metadata": {
    "run_control": {
     "frozen": true
    }
   },
   "source": [
    "### a)"
   ]
  },
  {
   "cell_type": "markdown",
   "metadata": {
    "run_control": {
     "frozen": true
    }
   },
   "source": [
    "Make a program that with the aid of loops takes inn 7 integers like shown below. Then adds all these numbers together to be printed at the end.\n",
    "\n",
    "Example of running code:\n",
    "```\n",
    "Write in a positive integer: 6\n",
    "Write in a positive integer: 4\n",
    "Write in a positive integer: 7\n",
    "Write in a positive integer: 3\n",
    "Write in a positive integer: 2\n",
    "Write in a positive integer: 456\n",
    "Write in a positive integer: 99\n",
    "The total of these numbers is 577\n",
    "```\n",
    "\n",
    "***Write your code here:***"
   ]
  },
  {
   "cell_type": "code",
   "execution_count": null,
   "metadata": {},
   "outputs": [],
   "source": []
  },
  {
   "cell_type": "markdown",
   "metadata": {
    "run_control": {
     "frozen": true
    }
   },
   "source": [
    "### b)"
   ]
  },
  {
   "cell_type": "markdown",
   "metadata": {
    "run_control": {
     "frozen": true
    }
   },
   "source": [
    "Make a program that multiplies all the numbers from 1, 2, 3, ... all the way until the total sum is larger than 1000.\n",
    "\n",
    "***Write your code here:***"
   ]
  },
  {
   "cell_type": "code",
   "execution_count": 1,
   "metadata": {
    "ExecuteTime": {
     "end_time": "2019-07-02T12:56:17.761917Z",
     "start_time": "2019-07-02T12:56:17.756785Z"
    }
   },
   "outputs": [],
   "source": []
  },
  {
   "cell_type": "markdown",
   "metadata": {
    "heading_collapsed": true,
    "run_control": {
     "frozen": true
    }
   },
   "source": [
    "#### Hint"
   ]
  },
  {
   "cell_type": "markdown",
   "metadata": {
    "hidden": true,
    "run_control": {
     "frozen": true
    }
   },
   "source": [
    "Since you dont know how long this loop will go it is wise to use a while loop with the total as its statment. The answer is going to be 5040, and like in task (a) you need a variable to keep this number stored."
   ]
  },
  {
   "cell_type": "markdown",
   "metadata": {
    "run_control": {
     "frozen": true
    }
   },
   "source": [
    "### c)"
   ]
  },
  {
   "cell_type": "markdown",
   "metadata": {
    "run_control": {
     "frozen": true
    }
   },
   "source": [
    "Make a program that asks the user the same question until they get it right. Then the program is going to tell the user how many times they answered wrong. Example of running code is shown below, but you can change the question and answer as you wish.\n",
    "\n",
    "Example of running code:\n",
    "\n",
    "```\n",
    "What is my name? Tom\n",
    "Wrong, try again.\n",
    "What is my name? Marnie\n",
    "Wrong, try again.\n",
    "What is my name? Leo\n",
    "Wrong, try again.\n",
    "What is my name? Ellon\n",
    "Correct!! You tried 4 times.\n",
    "```\n",
    "\n",
    "***Write your code here:***"
   ]
  },
  {
   "cell_type": "code",
   "execution_count": 2,
   "metadata": {
    "ExecuteTime": {
     "end_time": "2019-07-02T13:03:21.820001Z",
     "start_time": "2019-07-02T13:03:21.814887Z"
    }
   },
   "outputs": [],
   "source": []
  }
 ],
 "metadata": {
  "kernelspec": {
   "display_name": "Python 3",
   "language": "python",
   "name": "python3"
  },
  "language_info": {
   "codemirror_mode": {
    "name": "ipython",
    "version": 3
   },
   "file_extension": ".py",
   "mimetype": "text/x-python",
   "name": "python",
   "nbconvert_exporter": "python",
   "pygments_lexer": "ipython3",
   "version": "3.7.3"
  },
  "toc": {
   "base_numbering": 1,
   "nav_menu": {},
   "number_sections": false,
   "sideBar": true,
   "skip_h1_title": false,
   "title_cell": "Table of Contents",
   "title_sidebar": "Contents",
   "toc_cell": false,
   "toc_position": {},
   "toc_section_display": true,
   "toc_window_display": false
  }
 },
 "nbformat": 4,
 "nbformat_minor": 4
}
