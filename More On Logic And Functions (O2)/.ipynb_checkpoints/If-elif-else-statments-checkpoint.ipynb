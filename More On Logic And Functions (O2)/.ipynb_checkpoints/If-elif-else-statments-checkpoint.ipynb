{
 "cells": [
  {
   "cell_type": "markdown",
   "metadata": {
    "deletable": false,
    "run_control": {
     "frozen": true
    }
   },
   "source": [
    "# Different kinds of if-statements\n",
    "\n",
    "**What you will learn::**\n",
    "\n",
    "- If sentances"
   ]
  },
  {
   "cell_type": "markdown",
   "metadata": {
    "deletable": false,
    "heading_collapsed": true,
    "run_control": {
     "frozen": true
    }
   },
   "source": [
    "## Basic about if-statements"
   ]
  },
  {
   "cell_type": "markdown",
   "metadata": {
    "ExecuteTime": {
     "end_time": "2019-07-01T08:54:49.298821Z",
     "start_time": "2019-07-01T08:54:49.289265Z"
    },
    "deletable": true,
    "hidden": true,
    "run_control": {
     "frozen": true
    }
   },
   "source": [
    "Up to this point you may only have used input values and printing to screen, but now we will learn more about how to check these values up against other logical statments. Just getting a input is usually not enough, we would like to perhaps check if the value is over a threshold or perhaps if it is the same word as a command, etc. Look at the example below. If we just have the input and can't check it up agains anything then we wount know if its supposed to print the first or secound print."
   ]
  },
  {
   "cell_type": "code",
   "execution_count": null,
   "metadata": {
    "ExecuteTime": {
     "end_time": "2019-07-01T08:54:49.298821Z",
     "start_time": "2019-07-01T08:54:49.289265Z"
    },
    "hidden": true
   },
   "outputs": [],
   "source": [
    "rain = float(input(\"How many mm of rain is expected? \"))\n",
    "print(\"I would recomend an umbrella!\")\n",
    "print(\"Have a nice day without an umbrella!\")"
   ]
  },
  {
   "cell_type": "markdown",
   "metadata": {
    "ExecuteTime": {
     "end_time": "2019-07-01T08:54:49.298821Z",
     "start_time": "2019-07-01T08:54:49.289265Z"
    },
    "deletable": false,
    "hidden": true,
    "run_control": {
     "frozen": true
    }
   },
   "source": [
    "An umbrella is only needed if the rain is above a threshold before it recomends it. This could be for example 0.2 mm of rain. This is what we will use a if-statment for!"
   ]
  },
  {
   "cell_type": "code",
   "execution_count": null,
   "metadata": {
    "ExecuteTime": {
     "end_time": "2019-07-01T08:54:49.298821Z",
     "start_time": "2019-07-01T08:54:49.289265Z"
    },
    "code_folding": [],
    "hidden": true
   },
   "outputs": [],
   "source": [
    "rain = float(input(\"How many mm of rain is expected? \"))\n",
    "if rain > 0.2:\n",
    "    print(\"I would recomend an umbrella!\")\n",
    "print(\"Have a nice day without an umbrella!\")"
   ]
  },
  {
   "cell_type": "markdown",
   "metadata": {
    "ExecuteTime": {
     "end_time": "2019-07-01T08:54:49.298821Z",
     "start_time": "2019-07-01T08:54:49.289265Z"
    },
    "deletable": false,
    "hidden": true,
    "run_control": {
     "frozen": true
    }
   },
   "source": [
    "In the example above we use a if-statment. The use of it is as follows.\n",
    "\n",
    "- A if-statment will check `if` a statment is true. This it will do by using the logical expressions we will learn more about later. This can be to see if it is less than something, equal to another thing or perhaps not equal to a value. (Because `if` is a built in functionality of Python you can't make a variable with the name of if.\n",
    "- In the example we check if the rain variable is larger than 0.2. If it is the statment will return a `true` value, meaning it will then run the code that is `indented` (or in other words below to the side).\n",
    "- If the statment is not true however then it will return `false` and just skip the `indented` code and continue the programe.\n",
    "- So in sumamry the way to use if-statments is, if \"variable name\" \"logical expression\" \"value to comapre too\" and lastly a colon."
   ]
  },
  {
   "cell_type": "markdown",
   "metadata": {
    "deletable": false,
    "editable": false,
    "run_control": {
     "frozen": true
    }
   },
   "source": [
    "## a)"
   ]
  },
  {
   "cell_type": "markdown",
   "metadata": {
    "deletable": false,
    "run_control": {
     "frozen": true
    }
   },
   "source": [
    "You are tasked with making a cake. The cake is supossed to be in the owen for 50 minutes. Start by looking at the prewriten program and expand on it. The problem with the code is that is will always write, \"Take the cake out\" no matter the value of time.\n",
    "\n",
    "___Fix the program so that \"Take the cake out\" only prints if the cake has been in the owen for at least 50 minutes. However \"It smells nice\" should always be printed. (Bigger or equals in python is writen as >=)___  "
   ]
  },
  {
   "cell_type": "code",
   "execution_count": null,
   "metadata": {
    "ExecuteTime": {
     "end_time": "2019-07-01T15:44:45.569935Z",
     "start_time": "2019-07-01T15:44:42.453083Z"
    }
   },
   "outputs": [],
   "source": [
    "time = int(input(\"How many minutes have the cake been in the owen? \"))\n",
    "print(\"Take the cake out.\")\n",
    "print(\"It smells nice.\")"
   ]
  },
  {
   "cell_type": "markdown",
   "metadata": {
    "deletable": false,
    "run_control": {
     "frozen": true
    }
   },
   "source": [
    "Example of correct running code.\n",
    "```\n",
    "How many minutes have the cake been in the owen?  35  \n",
    "It smells nice.\n",
    ">>>  \n",
    "  \n",
    "How many minutes have the cake been in the owen? 50  \n",
    "Take the cake out.\n",
    "It smells nice.\n",
    ">>>\n",
    "  \n",
    "How many minutes have the cake been in the owen? 65  \n",
    "Take the cake out.\n",
    "It smells nice.\n",
    ">>>\n",
    "```"
   ]
  },
  {
   "cell_type": "markdown",
   "metadata": {
    "deletable": false,
    "heading_collapsed": true,
    "run_control": {
     "frozen": true
    }
   },
   "source": [
    "## Basic about if-else-sentances"
   ]
  },
  {
   "cell_type": "markdown",
   "metadata": {
    "deletable": false,
    "hidden": true,
    "run_control": {
     "frozen": true
    }
   },
   "source": [
    "In the example (a) some code was supposed to run if the statment was true, but now we will learn about how to run code if the statment returns false.\n",
    "\n",
    "This is what we will use a **if-else**-sentance for shown in the code below."
   ]
  },
  {
   "cell_type": "code",
   "execution_count": null,
   "metadata": {
    "ExecuteTime": {
     "start_time": "2019-07-01T10:30:04.105Z"
    },
    "hidden": true
   },
   "outputs": [],
   "source": [
    "rain = float(input(\"How many mm of rain is expected? \"))\n",
    "if rain > 0.2:\n",
    "    print(\"I would recomend an umbrella!\")\n",
    "else:\n",
    "    print(\"I would not recomend a umbrella?\")\n",
    "print(\"Have a nice trip!\")"
   ]
  },
  {
   "cell_type": "markdown",
   "metadata": {
    "deletable": false,
    "hidden": true,
    "run_control": {
     "frozen": true
    }
   },
   "source": [
    "Example of running code with different values.\n",
    "\n",
    "**Example with more than 0.2 rain:**\n",
    "```\n",
    "How many mm of rain is expected? 0.5\n",
    "I would recomend an umbrella!\n",
    "Have a nice trip!\n",
    "```\n",
    "\n",
    "**Example with less than 0.2 rain**  \n",
    "```\n",
    "How many mm of rain is expected? 0.0\n",
    "I would not recomend a umbrella?\n",
    "Have a nice trip!\n",
    "```\n",
    "\n",
    "So:\n",
    "- The first part after if will run if the statment is true.\n",
    "- The later part after else will run if the if retunrs false.\n",
    "- The last part of the code will fun no matter since it is not tied to the if-else-sentance."
   ]
  },
  {
   "cell_type": "markdown",
   "metadata": {
    "deletable": false,
    "run_control": {
     "frozen": true
    }
   },
   "source": [
    "## b)"
   ]
  },
  {
   "cell_type": "markdown",
   "metadata": {
    "deletable": false,
    "run_control": {
     "frozen": true
    }
   },
   "source": [
    "In this task you are going to make a program that checks if you can vote, so if they are 18 or older. You need to ask the user their age and save it to a variable. Then check if they are 18 or over. Then at the end no matter their age you will print, \"Have a nice day!\".\n",
    "\n",
    "**Example of running code**\n",
    "\n",
    "```\n",
    "Write your age: 19\n",
    "You can vote, do so!\n",
    "Have a nice day!\n",
    "```\n",
    "  \n",
    "```\n",
    "Write your age: 18\n",
    "You can vote, do so!\n",
    "Have a nice day!\n",
    "```\n",
    "  \n",
    "```\n",
    "Write your age: 2\n",
    "You can not vote, but when you can, do so!\n",
    "Have a nice day!\n",
    "```\n",
    "\n",
    "***Write code here:***"
   ]
  },
  {
   "cell_type": "code",
   "execution_count": null,
   "metadata": {},
   "outputs": [],
   "source": []
  },
  {
   "cell_type": "markdown",
   "metadata": {
    "deletable": false,
    "heading_collapsed": true,
    "run_control": {
     "frozen": true
    }
   },
   "source": [
    "#### Tips"
   ]
  },
  {
   "cell_type": "markdown",
   "metadata": {
    "deletable": false,
    "hidden": true,
    "run_control": {
     "frozen": true
    }
   },
   "source": [
    "1. Make varaible named `age` like so: `age = int(input(Write your age: \"))`\n",
    "2. Use a if statment of age >= 18 and a else statment to write the correct prints in both.\n",
    "3. Write the last print outside of the if-else."
   ]
  },
  {
   "cell_type": "markdown",
   "metadata": {
    "deletable": false,
    "heading_collapsed": true,
    "run_control": {
     "frozen": true
    }
   },
   "source": [
    "## Basic about if-elif-else-sentances"
   ]
  },
  {
   "cell_type": "markdown",
   "metadata": {
    "deletable": false,
    "hidden": true,
    "run_control": {
     "frozen": true
    }
   },
   "source": [
    "To this point the if-else only takes in a single check of true or false. Now we will expand a bit more with what is called elif. Perhaps in the rain example if the rain is over 0.2 but less than 0.5 its only needed with a raincoat and not a umbrella. How do we check for this? With a elif."
   ]
  },
  {
   "cell_type": "code",
   "execution_count": null,
   "metadata": {
    "hidden": true
   },
   "outputs": [],
   "source": [
    "# Example\n",
    "rain = float(input(\"How many mm of rain is expected? \"))\n",
    "if rain > 0.5:\n",
    "    print(\"I would recomend an umbrella and a raincoat!\")\n",
    "elif rain > 0.2:\n",
    "    print(\"I would only recomend a raincoat\")\n",
    "else:\n",
    "    print(\"I would not recomend a umbrella or a raincoat\")\n",
    "print(\"Have a nice trip!\")"
   ]
  },
  {
   "cell_type": "markdown",
   "metadata": {
    "deletable": false,
    "hidden": true,
    "run_control": {
     "frozen": true
    }
   },
   "source": [
    "Example of running code:\n",
    "\n",
    "```\n",
    "How many mm of rain is expected? 5.2\n",
    "I would recomend an umbrella and a raincoat!\n",
    "Have a nice trip!\n",
    ">>>\n",
    "```\n",
    "\n",
    "```\n",
    "How many mm of rain is expected?  0.5\n",
    "I would only recomend a raincoat\n",
    "Have a nice trip!\n",
    ">>>\n",
    "```\n",
    "\n",
    "```\n",
    "How many mm of rain is expected?  0.0\n",
    "I would not recomend a umbrella or a raincoat\n",
    "Have a nice trip!\n",
    "```"
   ]
  },
  {
   "cell_type": "markdown",
   "metadata": {
    "deletable": false,
    "hidden": true,
    "run_control": {
     "frozen": true
    }
   },
   "source": [
    "This first checks if the rain is more than 0.5, then if this one returns true it will run that piece of code. Though if it returns false it will go to the next step in the if-elif-else chain, checking if the rain is more than 0.2. If so it will run that piece of code, but if that too is false it will continue with next part of the chain, in this case the last else statment and run that instead.\n",
    "\n",
    "We can have multiple elif after each other as much as we want so we are able to check many variations quickly and only making 1 run.\n",
    "\n",
    "The reason we have elif is to avoid what is shown in the example below which is just confusing and unnecesarry."
   ]
  },
  {
   "cell_type": "code",
   "execution_count": null,
   "metadata": {
    "hidden": true
   },
   "outputs": [],
   "source": [
    "# Example without elif\n",
    "score = int(input(\"Total points: \"))\n",
    "  \n",
    "if score >= 89:\n",
    "    grade = \"A\"\n",
    "else:\n",
    "    if score >= 77:\n",
    "        grade = \"B\"\n",
    "    else:\n",
    "        if score >= 65:\n",
    "            grade = \"C\"\n",
    "        else:\n",
    "            if score >= 53:\n",
    "                grade = \"D\"\n",
    "            else:\n",
    "                if score >= 41:\n",
    "                    grade = \"E\"\n",
    "                else:\n",
    "                    grade = \"F\"\n",
    "  \n",
    "print(\"You got\", grade)"
   ]
  },
  {
   "cell_type": "code",
   "execution_count": null,
   "metadata": {
    "hidden": true
   },
   "outputs": [],
   "source": [
    "# Example with elif\n",
    "score = int(input(\"Total points: \"))\n",
    "  \n",
    "if score >= 89:\n",
    "    grade = \"A\"\n",
    "elif score >= 77:\n",
    "    grade = \"B\"\n",
    "elif score >= 65:\n",
    "    grade = \"C\"\n",
    "elif score >= 53:\n",
    "    grade = \"D\"\n",
    "elif score >= 41:\n",
    "    grade = \"E\"\n",
    "else:\n",
    "    grade = \"F\"\n",
    " \n",
    "print(\"You got\", grade)"
   ]
  },
  {
   "cell_type": "code",
   "execution_count": null,
   "metadata": {
    "hidden": true
   },
   "outputs": [],
   "source": [
    "# Example with elif but it is WRONG\n",
    "score = int(input(\"Total points: \"))\n",
    " \n",
    "if score >= 0:\n",
    "    grade = \"F\"\n",
    "elif score >= 41:\n",
    "    grade = \"E\"\n",
    "elif score >= 53:\n",
    "    grade = \"D\"\n",
    "elif score >= 65:\n",
    "    grade = \"C\"\n",
    "elif score >= 77:\n",
    "    grade = \"B\"\n",
    "elif score >= 89:\n",
    "    grade = \"A\"\n",
    " \n",
    "print(\"You got\", grade)"
   ]
  },
  {
   "cell_type": "markdown",
   "metadata": {
    "deletable": false,
    "hidden": true,
    "run_control": {
     "frozen": true
    }
   },
   "source": [
    "In the last example we deliberatly made a error. The reason it is a error is because the way if-elif-else works is that it will check everything in the order of top to bottom. This means if any of the first return true it will use that part of the code to run. In the example it starts by checking if the score if above 0, which it always will, meaning that the first part of the code will always be run no matter what.\n",
    "\n",
    "This same error also is shown slightly altered below. If it was just a string of if-sentances and not if-elif-else then it would start with seeing score of 92 is more than 89 so it retruns true and prints. But then it continues since the if-sentances are not \"linked, seeing that 92 is bigger than 77 and printing etc etc. So it is wise to be careful on how you use if and if-elif-else because many problems might arise if you are not careful."
   ]
  },
  {
   "cell_type": "code",
   "execution_count": null,
   "metadata": {
    "hidden": true
   },
   "outputs": [],
   "source": [
    "# Example with only if but it is WRONG\n",
    "score = int(input(\"Total points: \"))\n",
    "  \n",
    "if score >= 89:\n",
    "    grade = \"A\"\n",
    "if score >= 77:\n",
    "    grade = \"B\"\n",
    "if score >= 65:\n",
    "    grade = \"C\"\n",
    "if score >= 53:\n",
    "    grade = \"D\"\n",
    "if score >= 41:\n",
    "    grade = \"E\"\n",
    "else:\n",
    "    grade = \"F\"\n",
    " \n",
    "print(\"You got\",grade)"
   ]
  },
  {
   "cell_type": "markdown",
   "metadata": {
    "deletable": false,
    "hidden": true,
    "run_control": {
     "frozen": true
    }
   },
   "source": [
    "**Summary:**\n",
    "\n",
    "- Multiple independent decisions: use multiple if-sentances.\n",
    "- Decision with one or multiple checks of true or false and one mandatory: use if-else (with 2 outcomes) or if-elif-else (with 3 or more outcomes)"
   ]
  },
  {
   "cell_type": "markdown",
   "metadata": {
    "deletable": false,
    "run_control": {
     "frozen": true
    }
   },
   "source": [
    "## c)"
   ]
  },
  {
   "cell_type": "markdown",
   "metadata": {
    "deletable": false,
    "run_control": {
     "frozen": true
    }
   },
   "source": [
    "Make a extension to the program in (b) if a person can vote or not with the following aditional info:\n",
    "\n",
    "- `alder >= 18`: Can vote with local and parlament elections.\n",
    "- `alder >= 16`: Can vote with local elections but not with parlament elections.\n",
    "- `alder < 16`: Can't vote.\n",
    "\n",
    "Example of running code:\n",
    "\n",
    "```\n",
    "Write your age: 19\n",
    "You can vote on both local and parlament elections.\n",
    "Have a nice day!\n",
    ">>>>\n",
    "```\n",
    "\n",
    "```\n",
    "Skriv inn din alder: 17\n",
    "You can vote on local, but not parlament elections.\n",
    "Have a nice day!\n",
    ">>>>\n",
    "```\n",
    "\n",
    "```\n",
    "Skriv inn din alder: 12\n",
    "You can't vote.\n",
    "Have a nice day!\n",
    "```\n",
    "\n",
    "___Write your code here:___"
   ]
  },
  {
   "cell_type": "code",
   "execution_count": null,
   "metadata": {},
   "outputs": [],
   "source": []
  }
 ],
 "metadata": {
  "kernelspec": {
   "display_name": "Python 3",
   "language": "python",
   "name": "python3"
  },
  "language_info": {
   "codemirror_mode": {
    "name": "ipython",
    "version": 3
   },
   "file_extension": ".py",
   "mimetype": "text/x-python",
   "name": "python",
   "nbconvert_exporter": "python",
   "pygments_lexer": "ipython3",
   "version": "3.7.3"
  },
  "toc": {
   "base_numbering": 1,
   "nav_menu": {},
   "number_sections": false,
   "sideBar": true,
   "skip_h1_title": false,
   "title_cell": "Table of Contents",
   "title_sidebar": "Contents",
   "toc_cell": false,
   "toc_position": {
    "height": "calc(100% - 180px)",
    "left": "10px",
    "top": "150px",
    "width": "265px"
   },
   "toc_section_display": true,
   "toc_window_display": false
  }
 },
 "nbformat": 4,
 "nbformat_minor": 4
}
