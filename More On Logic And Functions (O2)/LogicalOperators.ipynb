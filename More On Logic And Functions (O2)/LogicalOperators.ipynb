{
 "cells": [
  {
   "cell_type": "markdown",
   "metadata": {
    "deletable": false,
    "run_control": {
     "frozen": true
    }
   },
   "source": [
    "## General about logical operators and logical expressions\n",
    "\n",
    "**What you will learn:**\n",
    "- Logical expressions\n",
    "- Conditions\n",
    "- Code logic\n",
    "\n",
    "In this task we will learn about logical expressions and how we can combine them with `and`, `or` and `not`."
   ]
  },
  {
   "cell_type": "markdown",
   "metadata": {
    "deletable": false,
    "hidden": true,
    "run_control": {
     "frozen": true
    }
   },
   "source": [
    "In this task we will learn more about comparing values and how they work with the logical operators. The basic logical operators are as follows:\n",
    "\n",
    "- `==` Means they are equal\n",
    "- `!=` Means they are NOT equal\n",
    "- `>` , `<` , `>=` , `<=` The first two here are used as \"less then\" or \"more then\", and the last two are used as \"less then or equal\" and \"more than or equal\"  \n",
    "\n",
    "These can be combined with the logical expressions of and, or and not.\n",
    "- `and` Means that both the statements need to be true for it to return true.\n",
    "- `or` Means that either of the statements need to be true for it to retrun true.\n",
    "- `not` Means that it will return true if it would normaly return false, and false if it would return true."
   ]
  },
  {
   "cell_type": "code",
   "execution_count": null,
   "metadata": {
    "hidden": true
   },
   "outputs": [],
   "source": [
    "temp = float(input(\"Temperature in Celsius: \"))\n",
    "wind = float(input(\"Windspeed in m/s: \"))\n",
    "  \n",
    "# VARIATION WITH if-elif\n",
    "if temp < -30:\n",
    "    print(\"Warning: Extreme weather!\")\n",
    "elif temp > 40:\n",
    "    print(\"Warning: Extreme weather!\")\n",
    "elif wind > 20:\n",
    "    print(\"Warning: Extreme weather!\")\n",
    "  \n",
    "# VARIATION WITH LOGICAL EXPRESSIONS\n",
    "if temp < -30 or temp > 40 or wind > 20:\n",
    "    print(\"Warning: Extreme weather!\")"
   ]
  },
  {
   "cell_type": "markdown",
   "metadata": {
    "deletable": false,
    "hidden": true,
    "run_control": {
     "frozen": true
    }
   },
   "source": [
    "You will then see that in the last part of the code multiple or statments are used. This is because extreme weather will print so if any of the three values are extreme.\n",
    "Following this you can avoid nested if statements using a and. This will make it only print if both values are sufficiant in comparison to the singular of or."
   ]
  },
  {
   "cell_type": "code",
   "execution_count": null,
   "metadata": {
    "ExecuteTime": {
     "end_time": "2019-07-02T06:42:19.110725Z",
     "start_time": "2019-07-02T06:42:10.950922Z"
    },
    "hidden": true
   },
   "outputs": [],
   "source": [
    "rain = float(input(\"How many mm of rain is it? \"))\n",
    "wind = float(input(\"Windspeed in m/s: \"))\n",
    "  \n",
    "# VARIATION WITH NESTED IF-statments\n",
    "if rain > 0.2:\n",
    "    if wind < 7.0:\n",
    "        print(\"Umbrella is recomended\")\n",
    "\n",
    "# VARIATION WITH AND statment\n",
    "if regn > 0.2 and vind < 7.0:\n",
    "    print(\"Umbrella is recomended.\")"
   ]
  },
  {
   "cell_type": "markdown",
   "metadata": {
    "deletable": false,
    "hidden": true,
    "run_control": {
     "frozen": true
    }
   },
   "source": [
    "You can see how the use of `or` and `and` makes the code smaller and smother. \n",
    "\n",
    "We have already shown 2, but we also have the third which is `not`.\n",
    "\n",
    "In the case of `not` it is usually used in addition to `or` and `and` where `not` will make a statement the opposite of what it is."
   ]
  },
  {
   "cell_type": "markdown",
   "metadata": {
    "deletable": false,
    "editable": false,
    "run_control": {
     "frozen": true
    }
   },
   "source": [
    "## a)"
   ]
  },
  {
   "cell_type": "markdown",
   "metadata": {
    "deletable": false,
    "run_control": {
     "frozen": true
    }
   },
   "source": [
    "Which of the expresions will give true with the values: `x=3`, `y=8` og `z=-3`?\n",
    "\n",
    "Expresion 1: `-5 < z and 5 > z`  \n",
    "Expresion 2: `not y == 8`  \n",
    "Expresion 3: `x == 8 or y == 8`  \n",
    "Expresion 4: `not (x <= 3 or y >= 9)`  \n",
    "Expresion 5: `not (x**2 != 8 and y-z == 5) or x+y == y-z`  \n",
    "\n",
    "Double click the text below and write there."
   ]
  },
  {
   "cell_type": "markdown",
   "metadata": {
    "hide_input": false
   },
   "source": [
    "Answer: < Double click here>"
   ]
  },
  {
   "cell_type": "markdown",
   "metadata": {
    "deletable": false,
    "editable": false,
    "run_control": {
     "frozen": true
    }
   },
   "source": [
    "## b)"
   ]
  },
  {
   "cell_type": "markdown",
   "metadata": {
    "deletable": false,
    "run_control": {
     "frozen": true
    }
   },
   "source": [
    "Below we have some unfinnished code. It's purpose is to take in two values and check if it is in the bounderies of what is stated. Either between 40-50 or 70-90. Though the code does not work and you need to find the error and fix it.\n",
    "\n",
    "***Fix the code and check that it works in all cases. Both values are in bound, only one value is in bound or no values is in bound.***"
   ]
  },
  {
   "cell_type": "code",
   "execution_count": null,
   "metadata": {},
   "outputs": [
    {
     "name": "stdout",
     "output_type": "stream",
     "text": [
      "Give a value a and b, both are integers in the interval of <40,50> or <70,90>:\n"
     ]
    }
   ],
   "source": [
    "print(\"Give a value a and b, both are integers in the interval of <40,50> or <70,90>:\" )\n",
    "a = int(input(\"Value of a: \"))\n",
    "b = int(input(\"Value of b: \"))\n",
    "  \n",
    "if (a>70 and a<<90) or (a>40 and not a>=50) and (70<b<90 or (b>40 and b<50)):\n",
    "    print(\"Both values are in the correct boundery\")\n",
    "else:\n",
    "    print(\"At least one value is not in the correct boundery\")"
   ]
  },
  {
   "cell_type": "markdown",
   "metadata": {
    "deletable": false,
    "editable": false,
    "heading_collapsed": true,
    "run_control": {
     "frozen": true
    }
   },
   "source": [
    "#### Hint"
   ]
  },
  {
   "cell_type": "markdown",
   "metadata": {
    "deletable": false,
    "hidden": true,
    "run_control": {
     "frozen": true
    }
   },
   "source": [
    "Paranteses are key."
   ]
  }
 ],
 "metadata": {
  "kernelspec": {
   "display_name": "Python 3",
   "language": "python",
   "name": "python3"
  },
  "language_info": {
   "codemirror_mode": {
    "name": "ipython",
    "version": 3
   },
   "file_extension": ".py",
   "mimetype": "text/x-python",
   "name": "python",
   "nbconvert_exporter": "python",
   "pygments_lexer": "ipython3",
   "version": "3.7.3"
  },
  "toc": {
   "base_numbering": 1,
   "nav_menu": {},
   "number_sections": false,
   "sideBar": true,
   "skip_h1_title": false,
   "title_cell": "Table of Contents",
   "title_sidebar": "Contents",
   "toc_cell": false,
   "toc_position": {},
   "toc_section_display": true,
   "toc_window_display": false
  }
 },
 "nbformat": 4,
 "nbformat_minor": 4
}
